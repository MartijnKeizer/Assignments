{
 "cells": [
  {
   "cell_type": "markdown",
   "metadata": {},
   "source": [
    "# Exam\n",
    "\n",
    "In this exam, we will work with the \"frequently requested health data” from the OECD.\n",
    "Your task is to compute a simple “efficiency score” and make three plots. \n",
    "\n",
    "\n",
    "You will earn a higher grade if you provide nicer graphs.  \n"
   ]
  },
  {
   "cell_type": "markdown",
   "metadata": {},
   "source": [
    "## Martijn Keizer u1266728"
   ]
  },
  {
   "cell_type": "markdown",
   "metadata": {},
   "source": [
    "Now you need to call the libaries\n",
    "\n",
    "* ggplot2\n",
    "* dplyr\n",
    "\n"
   ]
  },
  {
   "cell_type": "code",
   "execution_count": 53,
   "metadata": {
    "collapsed": false
   },
   "outputs": [],
   "source": [
    "library(ggplot2)\n",
    "library(dplyr)"
   ]
  },
  {
   "cell_type": "markdown",
   "metadata": {},
   "source": [
    "Now you have to read the de data that we have cleaned during tutorial 3. The csv file is called oecddata.csv"
   ]
  },
  {
   "cell_type": "code",
   "execution_count": 54,
   "metadata": {
    "collapsed": true
   },
   "outputs": [],
   "source": [
    "oecd <- read.csv(file=\"oecddata.csv\", header=TRUE, sep=\";\")"
   ]
  },
  {
   "cell_type": "markdown",
   "metadata": {},
   "source": [
    "To see how the data look like, use the command:\n",
    "\n",
    "head(oecd)\n",
    "\n",
    "With the command\n",
    "\n",
    "oecd\n",
    "\n",
    "\n",
    "You can see the dataset in total."
   ]
  },
  {
   "cell_type": "code",
   "execution_count": 4,
   "metadata": {
    "collapsed": false
   },
   "outputs": [
    {
     "data": {
      "text/html": [
       "<table>\n",
       "<thead><tr><th scope=col>X</th><th scope=col>Country</th><th scope=col>Year</th><th scope=col>Cost</th><th scope=col>LE</th></tr></thead>\n",
       "<tbody>\n",
       "\t<tr><td>1        </td><td>Australia</td><td>2005     </td><td>2842,1321</td><td>80,9     </td></tr>\n",
       "\t<tr><td>2        </td><td>Australia</td><td>2006     </td><td>3023,0978</td><td>81,1     </td></tr>\n",
       "\t<tr><td>3        </td><td>Australia</td><td>2007     </td><td>3196,226 </td><td>81,4     </td></tr>\n",
       "\t<tr><td>4        </td><td>Australia</td><td>2008     </td><td>3310,1708</td><td>81,5     </td></tr>\n",
       "\t<tr><td>5        </td><td>Australia</td><td>2009     </td><td>3564,4049</td><td>81,6     </td></tr>\n",
       "\t<tr><td>6        </td><td>Australia</td><td>2010     </td><td>3607,3407</td><td>81,8     </td></tr>\n",
       "</tbody>\n",
       "</table>\n"
      ],
      "text/latex": [
       "\\begin{tabular}{r|lllll}\n",
       " X & Country & Year & Cost & LE\\\\\n",
       "\\hline\n",
       "\t 1         & Australia & 2005      & 2842,1321 & 80,9     \\\\\n",
       "\t 2         & Australia & 2006      & 3023,0978 & 81,1     \\\\\n",
       "\t 3         & Australia & 2007      & 3196,226  & 81,4     \\\\\n",
       "\t 4         & Australia & 2008      & 3310,1708 & 81,5     \\\\\n",
       "\t 5         & Australia & 2009      & 3564,4049 & 81,6     \\\\\n",
       "\t 6         & Australia & 2010      & 3607,3407 & 81,8     \\\\\n",
       "\\end{tabular}\n"
      ],
      "text/markdown": [
       "\n",
       "X | Country | Year | Cost | LE | \n",
       "|---|---|---|---|---|---|\n",
       "| 1         | Australia | 2005      | 2842,1321 | 80,9      | \n",
       "| 2         | Australia | 2006      | 3023,0978 | 81,1      | \n",
       "| 3         | Australia | 2007      | 3196,226  | 81,4      | \n",
       "| 4         | Australia | 2008      | 3310,1708 | 81,5      | \n",
       "| 5         | Australia | 2009      | 3564,4049 | 81,6      | \n",
       "| 6         | Australia | 2010      | 3607,3407 | 81,8      | \n",
       "\n",
       "\n"
      ],
      "text/plain": [
       "  X Country   Year Cost      LE  \n",
       "1 1 Australia 2005 2842,1321 80,9\n",
       "2 2 Australia 2006 3023,0978 81,1\n",
       "3 3 Australia 2007 3196,226  81,4\n",
       "4 4 Australia 2008 3310,1708 81,5\n",
       "5 5 Australia 2009 3564,4049 81,6\n",
       "6 6 Australia 2010 3607,3407 81,8"
      ]
     },
     "metadata": {},
     "output_type": "display_data"
    }
   ],
   "source": [
    "head(oecd)"
   ]
  },
  {
   "cell_type": "markdown",
   "metadata": {},
   "source": [
    "## Graphs"
   ]
  },
  {
   "cell_type": "markdown",
   "metadata": {},
   "source": [
    "To make the graphs we need to make selections of the data. Please use \"dplyr\" (commands \"select\" and \"filter\") and the \"pipe\". The first assignment is to make a scatterplot using \"ggplot\". The graph contains data for all countries for the year 2014. Therefore make a dataframe with dplyr first, called \"graph1\" with the required data.\n",
    "Then, make a scatterplot with \"Cost\" on the x-axis and \"LE\" on the y-axis. You have to add a regression line with a shaded area for the confidence interval."
   ]
  },
  {
   "cell_type": "code",
   "execution_count": 55,
   "metadata": {
    "collapsed": false
   },
   "outputs": [
    {
     "data": {
      "text/html": [
       "<table>\n",
       "<thead><tr><th scope=col>Country</th><th scope=col>Year</th><th scope=col>Cost</th><th scope=col>LE</th></tr></thead>\n",
       "<tbody>\n",
       "\t<tr><td>Australia      </td><td>2014           </td><td>4206,8516      </td><td>82,4           </td></tr>\n",
       "\t<tr><td>Austria        </td><td>2014           </td><td>4895,9992      </td><td>81,6           </td></tr>\n",
       "\t<tr><td>Belgium        </td><td>2014           </td><td>4522,045       </td><td>81,4           </td></tr>\n",
       "\t<tr><td>Canada         </td><td>2014           </td><td>4491,7648      </td><td>NA             </td></tr>\n",
       "\t<tr><td>Chile          </td><td>2014           </td><td>1688,5233      </td><td>79             </td></tr>\n",
       "\t<tr><td>Czech Republic </td><td>2014           </td><td>2386,3385      </td><td>78,9           </td></tr>\n",
       "\t<tr><td>Denmark        </td><td>2014           </td><td>4857,0285      </td><td>80,8           </td></tr>\n",
       "\t<tr><td>Estonia        </td><td>2014           </td><td>1724,51        </td><td>77,2           </td></tr>\n",
       "\t<tr><td>Finland        </td><td>2014           </td><td>3870,4         </td><td>81,3           </td></tr>\n",
       "\t<tr><td>France         </td><td>2014           </td><td>4366,9864      </td><td>82,8           </td></tr>\n",
       "\t<tr><td>Germany        </td><td>2014           </td><td>5119,2146      </td><td>81,2           </td></tr>\n",
       "\t<tr><td>Greece         </td><td>2014           </td><td>2220,1065      </td><td>81,5           </td></tr>\n",
       "\t<tr><td>Hungary        </td><td>2014           </td><td>1796,6034      </td><td>75,9           </td></tr>\n",
       "\t<tr><td>Iceland        </td><td>2014           </td><td>3896,9251      </td><td>82,9           </td></tr>\n",
       "\t<tr><td>Ireland        </td><td>2014           </td><td>5001,322       </td><td>81,4           </td></tr>\n",
       "\t<tr><td>Israel         </td><td>2014           </td><td>2547,401       </td><td>82,2           </td></tr>\n",
       "\t<tr><td>Italy          </td><td>2014           </td><td>3206,8286      </td><td>83,2           </td></tr>\n",
       "\t<tr><td>Japan          </td><td>2014           </td><td>4152,3727      </td><td>83,7           </td></tr>\n",
       "\t<tr><td>Korea          </td><td>2014           </td><td>2361,44        </td><td>82,2           </td></tr>\n",
       "\t<tr><td>Latvia         </td><td>2014           </td><td>1295,0128      </td><td>74,3           </td></tr>\n",
       "\t<tr><td>Luxembourg     </td><td>2014           </td><td>6682,237       </td><td>82,3           </td></tr>\n",
       "\t<tr><td>Mexico         </td><td>2014           </td><td>1035,3389      </td><td>74,8           </td></tr>\n",
       "\t<tr><td>Netherlands    </td><td>2014           </td><td>5276,6003      </td><td>81,8           </td></tr>\n",
       "\t<tr><td>New Zealand    </td><td>2014           </td><td>3537,2568      </td><td>81,6           </td></tr>\n",
       "\t<tr><td>Norway         </td><td>2014           </td><td>6080,998       </td><td>82,2           </td></tr>\n",
       "\t<tr><td>Poland         </td><td>2014           </td><td>1624,8655      </td><td>77,7           </td></tr>\n",
       "\t<tr><td>Portugal       </td><td>2014           </td><td>2583,8438      </td><td>81,2           </td></tr>\n",
       "\t<tr><td>Slovak Republic</td><td>2014           </td><td>1970,523       </td><td>76,9           </td></tr>\n",
       "\t<tr><td>Slovenia       </td><td>2014           </td><td>2598,9066      </td><td>81,2           </td></tr>\n",
       "\t<tr><td>Spain          </td><td>2014           </td><td>3053,0745      </td><td>83,3           </td></tr>\n",
       "\t<tr><td>Sweden         </td><td>2014           </td><td>5065,1613      </td><td>82,3           </td></tr>\n",
       "\t<tr><td>Switzerland    </td><td>2014           </td><td>6786,5657      </td><td>83,3           </td></tr>\n",
       "\t<tr><td>Turkey         </td><td>2014           </td><td>990,1908       </td><td>78             </td></tr>\n",
       "\t<tr><td>United Kingdom </td><td>2014           </td><td>3971,394       </td><td>81,4           </td></tr>\n",
       "\t<tr><td>United States  </td><td>2014           </td><td>9024,2064      </td><td>78,8           </td></tr>\n",
       "</tbody>\n",
       "</table>\n"
      ],
      "text/latex": [
       "\\begin{tabular}{r|llll}\n",
       " Country & Year & Cost & LE\\\\\n",
       "\\hline\n",
       "\t Australia       & 2014            & 4206,8516       & 82,4           \\\\\n",
       "\t Austria         & 2014            & 4895,9992       & 81,6           \\\\\n",
       "\t Belgium         & 2014            & 4522,045        & 81,4           \\\\\n",
       "\t Canada          & 2014            & 4491,7648       & NA             \\\\\n",
       "\t Chile           & 2014            & 1688,5233       & 79             \\\\\n",
       "\t Czech Republic  & 2014            & 2386,3385       & 78,9           \\\\\n",
       "\t Denmark         & 2014            & 4857,0285       & 80,8           \\\\\n",
       "\t Estonia         & 2014            & 1724,51         & 77,2           \\\\\n",
       "\t Finland         & 2014            & 3870,4          & 81,3           \\\\\n",
       "\t France          & 2014            & 4366,9864       & 82,8           \\\\\n",
       "\t Germany         & 2014            & 5119,2146       & 81,2           \\\\\n",
       "\t Greece          & 2014            & 2220,1065       & 81,5           \\\\\n",
       "\t Hungary         & 2014            & 1796,6034       & 75,9           \\\\\n",
       "\t Iceland         & 2014            & 3896,9251       & 82,9           \\\\\n",
       "\t Ireland         & 2014            & 5001,322        & 81,4           \\\\\n",
       "\t Israel          & 2014            & 2547,401        & 82,2           \\\\\n",
       "\t Italy           & 2014            & 3206,8286       & 83,2           \\\\\n",
       "\t Japan           & 2014            & 4152,3727       & 83,7           \\\\\n",
       "\t Korea           & 2014            & 2361,44         & 82,2           \\\\\n",
       "\t Latvia          & 2014            & 1295,0128       & 74,3           \\\\\n",
       "\t Luxembourg      & 2014            & 6682,237        & 82,3           \\\\\n",
       "\t Mexico          & 2014            & 1035,3389       & 74,8           \\\\\n",
       "\t Netherlands     & 2014            & 5276,6003       & 81,8           \\\\\n",
       "\t New Zealand     & 2014            & 3537,2568       & 81,6           \\\\\n",
       "\t Norway          & 2014            & 6080,998        & 82,2           \\\\\n",
       "\t Poland          & 2014            & 1624,8655       & 77,7           \\\\\n",
       "\t Portugal        & 2014            & 2583,8438       & 81,2           \\\\\n",
       "\t Slovak Republic & 2014            & 1970,523        & 76,9           \\\\\n",
       "\t Slovenia        & 2014            & 2598,9066       & 81,2           \\\\\n",
       "\t Spain           & 2014            & 3053,0745       & 83,3           \\\\\n",
       "\t Sweden          & 2014            & 5065,1613       & 82,3           \\\\\n",
       "\t Switzerland     & 2014            & 6786,5657       & 83,3           \\\\\n",
       "\t Turkey          & 2014            & 990,1908        & 78             \\\\\n",
       "\t United Kingdom  & 2014            & 3971,394        & 81,4           \\\\\n",
       "\t United States   & 2014            & 9024,2064       & 78,8           \\\\\n",
       "\\end{tabular}\n"
      ],
      "text/markdown": [
       "\n",
       "Country | Year | Cost | LE | \n",
       "|---|---|---|---|---|---|---|---|---|---|---|---|---|---|---|---|---|---|---|---|---|---|---|---|---|---|---|---|---|---|---|---|---|---|---|\n",
       "| Australia       | 2014            | 4206,8516       | 82,4            | \n",
       "| Austria         | 2014            | 4895,9992       | 81,6            | \n",
       "| Belgium         | 2014            | 4522,045        | 81,4            | \n",
       "| Canada          | 2014            | 4491,7648       | NA              | \n",
       "| Chile           | 2014            | 1688,5233       | 79              | \n",
       "| Czech Republic  | 2014            | 2386,3385       | 78,9            | \n",
       "| Denmark         | 2014            | 4857,0285       | 80,8            | \n",
       "| Estonia         | 2014            | 1724,51         | 77,2            | \n",
       "| Finland         | 2014            | 3870,4          | 81,3            | \n",
       "| France          | 2014            | 4366,9864       | 82,8            | \n",
       "| Germany         | 2014            | 5119,2146       | 81,2            | \n",
       "| Greece          | 2014            | 2220,1065       | 81,5            | \n",
       "| Hungary         | 2014            | 1796,6034       | 75,9            | \n",
       "| Iceland         | 2014            | 3896,9251       | 82,9            | \n",
       "| Ireland         | 2014            | 5001,322        | 81,4            | \n",
       "| Israel          | 2014            | 2547,401        | 82,2            | \n",
       "| Italy           | 2014            | 3206,8286       | 83,2            | \n",
       "| Japan           | 2014            | 4152,3727       | 83,7            | \n",
       "| Korea           | 2014            | 2361,44         | 82,2            | \n",
       "| Latvia          | 2014            | 1295,0128       | 74,3            | \n",
       "| Luxembourg      | 2014            | 6682,237        | 82,3            | \n",
       "| Mexico          | 2014            | 1035,3389       | 74,8            | \n",
       "| Netherlands     | 2014            | 5276,6003       | 81,8            | \n",
       "| New Zealand     | 2014            | 3537,2568       | 81,6            | \n",
       "| Norway          | 2014            | 6080,998        | 82,2            | \n",
       "| Poland          | 2014            | 1624,8655       | 77,7            | \n",
       "| Portugal        | 2014            | 2583,8438       | 81,2            | \n",
       "| Slovak Republic | 2014            | 1970,523        | 76,9            | \n",
       "| Slovenia        | 2014            | 2598,9066       | 81,2            | \n",
       "| Spain           | 2014            | 3053,0745       | 83,3            | \n",
       "| Sweden          | 2014            | 5065,1613       | 82,3            | \n",
       "| Switzerland     | 2014            | 6786,5657       | 83,3            | \n",
       "| Turkey          | 2014            | 990,1908        | 78              | \n",
       "| United Kingdom  | 2014            | 3971,394        | 81,4            | \n",
       "| United States   | 2014            | 9024,2064       | 78,8            | \n",
       "\n",
       "\n"
      ],
      "text/plain": [
       "   Country         Year Cost      LE  \n",
       "1  Australia       2014 4206,8516 82,4\n",
       "2  Austria         2014 4895,9992 81,6\n",
       "3  Belgium         2014 4522,045  81,4\n",
       "4  Canada          2014 4491,7648 NA  \n",
       "5  Chile           2014 1688,5233 79  \n",
       "6  Czech Republic  2014 2386,3385 78,9\n",
       "7  Denmark         2014 4857,0285 80,8\n",
       "8  Estonia         2014 1724,51   77,2\n",
       "9  Finland         2014 3870,4    81,3\n",
       "10 France          2014 4366,9864 82,8\n",
       "11 Germany         2014 5119,2146 81,2\n",
       "12 Greece          2014 2220,1065 81,5\n",
       "13 Hungary         2014 1796,6034 75,9\n",
       "14 Iceland         2014 3896,9251 82,9\n",
       "15 Ireland         2014 5001,322  81,4\n",
       "16 Israel          2014 2547,401  82,2\n",
       "17 Italy           2014 3206,8286 83,2\n",
       "18 Japan           2014 4152,3727 83,7\n",
       "19 Korea           2014 2361,44   82,2\n",
       "20 Latvia          2014 1295,0128 74,3\n",
       "21 Luxembourg      2014 6682,237  82,3\n",
       "22 Mexico          2014 1035,3389 74,8\n",
       "23 Netherlands     2014 5276,6003 81,8\n",
       "24 New Zealand     2014 3537,2568 81,6\n",
       "25 Norway          2014 6080,998  82,2\n",
       "26 Poland          2014 1624,8655 77,7\n",
       "27 Portugal        2014 2583,8438 81,2\n",
       "28 Slovak Republic 2014 1970,523  76,9\n",
       "29 Slovenia        2014 2598,9066 81,2\n",
       "30 Spain           2014 3053,0745 83,3\n",
       "31 Sweden          2014 5065,1613 82,3\n",
       "32 Switzerland     2014 6786,5657 83,3\n",
       "33 Turkey          2014 990,1908  78  \n",
       "34 United Kingdom  2014 3971,394  81,4\n",
       "35 United States   2014 9024,2064 78,8"
      ]
     },
     "metadata": {},
     "output_type": "display_data"
    }
   ],
   "source": [
    "graph1 <- data.frame(oecd) %>%\n",
    "    select(Country, Year, Cost, LE) %>%\n",
    "    filter(Year == 2014)\n",
    "graph1\n"
   ]
  },
  {
   "cell_type": "code",
   "execution_count": 22,
   "metadata": {
    "collapsed": false
   },
   "outputs": [
    {
     "data": {},
     "metadata": {},
     "output_type": "display_data"
    },
    {
     "data": {
      "image/png": "[encoded data removed]",
      "text/plain": [
       "plot without title"
      ]
     },
     "metadata": {},
     "output_type": "display_data"
    }
   ],
   "source": [
    "ggplot(graph1, aes(x = Cost, y = LE)) +\n",
    "    geom_point() +   \n",
    "    geom_smooth(method=lm)"
   ]
  },
  {
   "cell_type": "markdown",
   "metadata": {},
   "source": [
    "The second assignment is to make a line graph. You will use the years 2005-2015 for 5 countries (you can choose your own countries). Make a new dataframe called graph2 with the required data. Then, make a line graph with \"Year\"  and \"Cost\" on the y-axis. There should be coloured lines per country and a legend attached. "
   ]
  },
  {
   "cell_type": "code",
   "execution_count": 56,
   "metadata": {
    "collapsed": false
   },
   "outputs": [],
   "source": [
    "graph2 <- data.frame(oecd) %>%\n",
    "    select(Country, Year, Cost) %>%\n",
    "    filter(Country %in% c(\"Slovak Republic\", \"Slovenia\", \"Spain\", \"Sweden\", \"Switzerland\"))\n"
   ]
  },
  {
   "cell_type": "code",
   "execution_count": 57,
   "metadata": {
    "collapsed": false,
    "scrolled": true
   },
   "outputs": [
    {
     "data": {
      "text/html": [
       "<table>\n",
       "<thead><tr><th scope=col>Country</th><th scope=col>Year</th><th scope=col>Cost</th></tr></thead>\n",
       "<tbody>\n",
       "\t<tr><td>Slovak Republic</td><td>2005           </td><td>1093,9081      </td></tr>\n",
       "\t<tr><td>Slovak Republic</td><td>2006           </td><td>1294,5212      </td></tr>\n",
       "\t<tr><td>Slovak Republic</td><td>2007           </td><td>1545,5981      </td></tr>\n",
       "\t<tr><td>Slovak Republic</td><td>2008           </td><td>1665,2449      </td></tr>\n",
       "\t<tr><td>Slovak Republic</td><td>2009           </td><td>1849,6847      </td></tr>\n",
       "\t<tr><td>Slovak Republic</td><td>2010           </td><td>1917,8972      </td></tr>\n",
       "\t<tr><td>Slovak Republic</td><td>2011           </td><td>1871,8732      </td></tr>\n",
       "\t<tr><td>Slovak Republic</td><td>2012           </td><td>1999,5644      </td></tr>\n",
       "\t<tr><td>Slovak Republic</td><td>2013           </td><td>2073,0478      </td></tr>\n",
       "\t<tr><td>Slovak Republic</td><td>2014           </td><td>1970,523       </td></tr>\n",
       "\t<tr><td>Slovak Republic</td><td>2015           </td><td>2063,7541      </td></tr>\n",
       "\t<tr><td>Slovenia       </td><td>2005           </td><td>1902,6718      </td></tr>\n",
       "\t<tr><td>Slovenia       </td><td>2006           </td><td>2018,3504      </td></tr>\n",
       "\t<tr><td>Slovenia       </td><td>2007           </td><td>2074,3104      </td></tr>\n",
       "\t<tr><td>Slovenia       </td><td>2008           </td><td>2323,2728      </td></tr>\n",
       "\t<tr><td>Slovenia       </td><td>2009           </td><td>2355,0227      </td></tr>\n",
       "\t<tr><td>Slovenia       </td><td>2010           </td><td>2363,6692      </td></tr>\n",
       "\t<tr><td>Slovenia       </td><td>2011           </td><td>2435,0835      </td></tr>\n",
       "\t<tr><td>Slovenia       </td><td>2012           </td><td>2486,6141      </td></tr>\n",
       "\t<tr><td>Slovenia       </td><td>2013           </td><td>2548,6819      </td></tr>\n",
       "\t<tr><td>Slovenia       </td><td>2014           </td><td>2598,9066      </td></tr>\n",
       "\t<tr><td>Slovenia       </td><td>2015           </td><td>2643,8457      </td></tr>\n",
       "\t<tr><td>Spain          </td><td>2005           </td><td>2139,3333      </td></tr>\n",
       "\t<tr><td>Spain          </td><td>2006           </td><td>2393,3068      </td></tr>\n",
       "\t<tr><td>Spain          </td><td>2007           </td><td>2570,706       </td></tr>\n",
       "\t<tr><td>Spain          </td><td>2008           </td><td>2795,8694      </td></tr>\n",
       "\t<tr><td>Spain          </td><td>2009           </td><td>2944,6196      </td></tr>\n",
       "\t<tr><td>Spain          </td><td>2010           </td><td>2917,9495      </td></tr>\n",
       "\t<tr><td>Spain          </td><td>2011           </td><td>2956,7857      </td></tr>\n",
       "\t<tr><td>Spain          </td><td>2012           </td><td>2929,3567      </td></tr>\n",
       "\t<tr><td>Spain          </td><td>2013           </td><td>2952,175       </td></tr>\n",
       "\t<tr><td>Spain          </td><td>2014           </td><td>3053,0745      </td></tr>\n",
       "\t<tr><td>Spain          </td><td>2015           </td><td>3152,9869      </td></tr>\n",
       "\t<tr><td>Sweden         </td><td>2005           </td><td>2841,8221      </td></tr>\n",
       "\t<tr><td>Sweden         </td><td>2006           </td><td>3066,2039      </td></tr>\n",
       "\t<tr><td>Sweden         </td><td>2007           </td><td>3274,849       </td></tr>\n",
       "\t<tr><td>Sweden         </td><td>2008           </td><td>3481,5901      </td></tr>\n",
       "\t<tr><td>Sweden         </td><td>2009           </td><td>3547,1337      </td></tr>\n",
       "\t<tr><td>Sweden         </td><td>2010           </td><td>3543,5822      </td></tr>\n",
       "\t<tr><td>Sweden         </td><td>2011           </td><td>4667,6964      </td></tr>\n",
       "\t<tr><td>Sweden         </td><td>2012           </td><td>4860,2524      </td></tr>\n",
       "\t<tr><td>Sweden         </td><td>2013           </td><td>5003,1323      </td></tr>\n",
       "\t<tr><td>Sweden         </td><td>2014           </td><td>5065,1613      </td></tr>\n",
       "\t<tr><td>Sweden         </td><td>2015           </td><td>5227,8349      </td></tr>\n",
       "\t<tr><td>Switzerland    </td><td>2005           </td><td>4015,3331      </td></tr>\n",
       "\t<tr><td>Switzerland    </td><td>2006           </td><td>4251,3673      </td></tr>\n",
       "\t<tr><td>Switzerland    </td><td>2007           </td><td>4567,3285      </td></tr>\n",
       "\t<tr><td>Switzerland    </td><td>2008           </td><td>4933,1         </td></tr>\n",
       "\t<tr><td>Switzerland    </td><td>2009           </td><td>5183,952       </td></tr>\n",
       "\t<tr><td>Switzerland    </td><td>2010           </td><td>5371,4504      </td></tr>\n",
       "\t<tr><td>Switzerland    </td><td>2011           </td><td>5787,6672      </td></tr>\n",
       "\t<tr><td>Switzerland    </td><td>2012           </td><td>6288,6475      </td></tr>\n",
       "\t<tr><td>Switzerland    </td><td>2013           </td><td>6635,2769      </td></tr>\n",
       "\t<tr><td>Switzerland    </td><td>2014           </td><td>6786,5657      </td></tr>\n",
       "\t<tr><td>Switzerland    </td><td>2015           </td><td>6934,6782      </td></tr>\n",
       "</tbody>\n",
       "</table>\n"
      ],
      "text/latex": [
       "\\begin{tabular}{r|lll}\n",
       " Country & Year & Cost\\\\\n",
       "\\hline\n",
       "\t Slovak Republic & 2005            & 1093,9081      \\\\\n",
       "\t Slovak Republic & 2006            & 1294,5212      \\\\\n",
       "\t Slovak Republic & 2007            & 1545,5981      \\\\\n",
       "\t Slovak Republic & 2008            & 1665,2449      \\\\\n",
       "\t Slovak Republic & 2009            & 1849,6847      \\\\\n",
       "\t Slovak Republic & 2010            & 1917,8972      \\\\\n",
       "\t Slovak Republic & 2011            & 1871,8732      \\\\\n",
       "\t Slovak Republic & 2012            & 1999,5644      \\\\\n",
       "\t Slovak Republic & 2013            & 2073,0478      \\\\\n",
       "\t Slovak Republic & 2014            & 1970,523       \\\\\n",
       "\t Slovak Republic & 2015            & 2063,7541      \\\\\n",
       "\t Slovenia        & 2005            & 1902,6718      \\\\\n",
       "\t Slovenia        & 2006            & 2018,3504      \\\\\n",
       "\t Slovenia        & 2007            & 2074,3104      \\\\\n",
       "\t Slovenia        & 2008            & 2323,2728      \\\\\n",
       "\t Slovenia        & 2009            & 2355,0227      \\\\\n",
       "\t Slovenia        & 2010            & 2363,6692      \\\\\n",
       "\t Slovenia        & 2011            & 2435,0835      \\\\\n",
       "\t Slovenia        & 2012            & 2486,6141      \\\\\n",
       "\t Slovenia        & 2013            & 2548,6819      \\\\\n",
       "\t Slovenia        & 2014            & 2598,9066      \\\\\n",
       "\t Slovenia        & 2015            & 2643,8457      \\\\\n",
       "\t Spain           & 2005            & 2139,3333      \\\\\n",
       "\t Spain           & 2006            & 2393,3068      \\\\\n",
       "\t Spain           & 2007            & 2570,706       \\\\\n",
       "\t Spain           & 2008            & 2795,8694      \\\\\n",
       "\t Spain           & 2009            & 2944,6196      \\\\\n",
       "\t Spain           & 2010            & 2917,9495      \\\\\n",
       "\t Spain           & 2011            & 2956,7857      \\\\\n",
       "\t Spain           & 2012            & 2929,3567      \\\\\n",
       "\t Spain           & 2013            & 2952,175       \\\\\n",
       "\t Spain           & 2014            & 3053,0745      \\\\\n",
       "\t Spain           & 2015            & 3152,9869      \\\\\n",
       "\t Sweden          & 2005            & 2841,8221      \\\\\n",
       "\t Sweden          & 2006            & 3066,2039      \\\\\n",
       "\t Sweden          & 2007            & 3274,849       \\\\\n",
       "\t Sweden          & 2008            & 3481,5901      \\\\\n",
       "\t Sweden          & 2009            & 3547,1337      \\\\\n",
       "\t Sweden          & 2010            & 3543,5822      \\\\\n",
       "\t Sweden          & 2011            & 4667,6964      \\\\\n",
       "\t Sweden          & 2012            & 4860,2524      \\\\\n",
       "\t Sweden          & 2013            & 5003,1323      \\\\\n",
       "\t Sweden          & 2014            & 5065,1613      \\\\\n",
       "\t Sweden          & 2015            & 5227,8349      \\\\\n",
       "\t Switzerland     & 2005            & 4015,3331      \\\\\n",
       "\t Switzerland     & 2006            & 4251,3673      \\\\\n",
       "\t Switzerland     & 2007            & 4567,3285      \\\\\n",
       "\t Switzerland     & 2008            & 4933,1         \\\\\n",
       "\t Switzerland     & 2009            & 5183,952       \\\\\n",
       "\t Switzerland     & 2010            & 5371,4504      \\\\\n",
       "\t Switzerland     & 2011            & 5787,6672      \\\\\n",
       "\t Switzerland     & 2012            & 6288,6475      \\\\\n",
       "\t Switzerland     & 2013            & 6635,2769      \\\\\n",
       "\t Switzerland     & 2014            & 6786,5657      \\\\\n",
       "\t Switzerland     & 2015            & 6934,6782      \\\\\n",
       "\\end{tabular}\n"
      ],
      "text/markdown": [
       "\n",
       "Country | Year | Cost | \n",
       "|---|---|---|---|---|---|---|---|---|---|---|---|---|---|---|---|---|---|---|---|---|---|---|---|---|---|---|---|---|---|---|---|---|---|---|---|---|---|---|---|---|---|---|---|---|---|---|---|---|---|---|---|---|---|---|\n",
       "| Slovak Republic | 2005            | 1093,9081       | \n",
       "| Slovak Republic | 2006            | 1294,5212       | \n",
       "| Slovak Republic | 2007            | 1545,5981       | \n",
       "| Slovak Republic | 2008            | 1665,2449       | \n",
       "| Slovak Republic | 2009            | 1849,6847       | \n",
       "| Slovak Republic | 2010            | 1917,8972       | \n",
       "| Slovak Republic | 2011            | 1871,8732       | \n",
       "| Slovak Republic | 2012            | 1999,5644       | \n",
       "| Slovak Republic | 2013            | 2073,0478       | \n",
       "| Slovak Republic | 2014            | 1970,523        | \n",
       "| Slovak Republic | 2015            | 2063,7541       | \n",
       "| Slovenia        | 2005            | 1902,6718       | \n",
       "| Slovenia        | 2006            | 2018,3504       | \n",
       "| Slovenia        | 2007            | 2074,3104       | \n",
       "| Slovenia        | 2008            | 2323,2728       | \n",
       "| Slovenia        | 2009            | 2355,0227       | \n",
       "| Slovenia        | 2010            | 2363,6692       | \n",
       "| Slovenia        | 2011            | 2435,0835       | \n",
       "| Slovenia        | 2012            | 2486,6141       | \n",
       "| Slovenia        | 2013            | 2548,6819       | \n",
       "| Slovenia        | 2014            | 2598,9066       | \n",
       "| Slovenia        | 2015            | 2643,8457       | \n",
       "| Spain           | 2005            | 2139,3333       | \n",
       "| Spain           | 2006            | 2393,3068       | \n",
       "| Spain           | 2007            | 2570,706        | \n",
       "| Spain           | 2008            | 2795,8694       | \n",
       "| Spain           | 2009            | 2944,6196       | \n",
       "| Spain           | 2010            | 2917,9495       | \n",
       "| Spain           | 2011            | 2956,7857       | \n",
       "| Spain           | 2012            | 2929,3567       | \n",
       "| Spain           | 2013            | 2952,175        | \n",
       "| Spain           | 2014            | 3053,0745       | \n",
       "| Spain           | 2015            | 3152,9869       | \n",
       "| Sweden          | 2005            | 2841,8221       | \n",
       "| Sweden          | 2006            | 3066,2039       | \n",
       "| Sweden          | 2007            | 3274,849        | \n",
       "| Sweden          | 2008            | 3481,5901       | \n",
       "| Sweden          | 2009            | 3547,1337       | \n",
       "| Sweden          | 2010            | 3543,5822       | \n",
       "| Sweden          | 2011            | 4667,6964       | \n",
       "| Sweden          | 2012            | 4860,2524       | \n",
       "| Sweden          | 2013            | 5003,1323       | \n",
       "| Sweden          | 2014            | 5065,1613       | \n",
       "| Sweden          | 2015            | 5227,8349       | \n",
       "| Switzerland     | 2005            | 4015,3331       | \n",
       "| Switzerland     | 2006            | 4251,3673       | \n",
       "| Switzerland     | 2007            | 4567,3285       | \n",
       "| Switzerland     | 2008            | 4933,1          | \n",
       "| Switzerland     | 2009            | 5183,952        | \n",
       "| Switzerland     | 2010            | 5371,4504       | \n",
       "| Switzerland     | 2011            | 5787,6672       | \n",
       "| Switzerland     | 2012            | 6288,6475       | \n",
       "| Switzerland     | 2013            | 6635,2769       | \n",
       "| Switzerland     | 2014            | 6786,5657       | \n",
       "| Switzerland     | 2015            | 6934,6782       | \n",
       "\n",
       "\n"
      ],
      "text/plain": [
       "   Country         Year Cost     \n",
       "1  Slovak Republic 2005 1093,9081\n",
       "2  Slovak Republic 2006 1294,5212\n",
       "3  Slovak Republic 2007 1545,5981\n",
       "4  Slovak Republic 2008 1665,2449\n",
       "5  Slovak Republic 2009 1849,6847\n",
       "6  Slovak Republic 2010 1917,8972\n",
       "7  Slovak Republic 2011 1871,8732\n",
       "8  Slovak Republic 2012 1999,5644\n",
       "9  Slovak Republic 2013 2073,0478\n",
       "10 Slovak Republic 2014 1970,523 \n",
       "11 Slovak Republic 2015 2063,7541\n",
       "12 Slovenia        2005 1902,6718\n",
       "13 Slovenia        2006 2018,3504\n",
       "14 Slovenia        2007 2074,3104\n",
       "15 Slovenia        2008 2323,2728\n",
       "16 Slovenia        2009 2355,0227\n",
       "17 Slovenia        2010 2363,6692\n",
       "18 Slovenia        2011 2435,0835\n",
       "19 Slovenia        2012 2486,6141\n",
       "20 Slovenia        2013 2548,6819\n",
       "21 Slovenia        2014 2598,9066\n",
       "22 Slovenia        2015 2643,8457\n",
       "23 Spain           2005 2139,3333\n",
       "24 Spain           2006 2393,3068\n",
       "25 Spain           2007 2570,706 \n",
       "26 Spain           2008 2795,8694\n",
       "27 Spain           2009 2944,6196\n",
       "28 Spain           2010 2917,9495\n",
       "29 Spain           2011 2956,7857\n",
       "30 Spain           2012 2929,3567\n",
       "31 Spain           2013 2952,175 \n",
       "32 Spain           2014 3053,0745\n",
       "33 Spain           2015 3152,9869\n",
       "34 Sweden          2005 2841,8221\n",
       "35 Sweden          2006 3066,2039\n",
       "36 Sweden          2007 3274,849 \n",
       "37 Sweden          2008 3481,5901\n",
       "38 Sweden          2009 3547,1337\n",
       "39 Sweden          2010 3543,5822\n",
       "40 Sweden          2011 4667,6964\n",
       "41 Sweden          2012 4860,2524\n",
       "42 Sweden          2013 5003,1323\n",
       "43 Sweden          2014 5065,1613\n",
       "44 Sweden          2015 5227,8349\n",
       "45 Switzerland     2005 4015,3331\n",
       "46 Switzerland     2006 4251,3673\n",
       "47 Switzerland     2007 4567,3285\n",
       "48 Switzerland     2008 4933,1   \n",
       "49 Switzerland     2009 5183,952 \n",
       "50 Switzerland     2010 5371,4504\n",
       "51 Switzerland     2011 5787,6672\n",
       "52 Switzerland     2012 6288,6475\n",
       "53 Switzerland     2013 6635,2769\n",
       "54 Switzerland     2014 6786,5657\n",
       "55 Switzerland     2015 6934,6782"
      ]
     },
     "metadata": {},
     "output_type": "display_data"
    }
   ],
   "source": [
    "graph2"
   ]
  },
  {
   "cell_type": "code",
   "execution_count": 58,
   "metadata": {
    "collapsed": false
   },
   "outputs": [
    {
     "data": {},
     "metadata": {},
     "output_type": "display_data"
    },
    {
     "data": {
      "image/png": "[encoded data removed]",
      "text/plain": [
       "plot without title"
      ]
     },
     "metadata": {},
     "output_type": "display_data"
    }
   ],
   "source": [
    "ggplot(graph2, aes( x = Year, y = Cost, group = Country, col = Country))+ geom_line() + scale_x_continuous(breaks = c(2005,2010,2015))"
   ]
  },
  {
   "cell_type": "markdown",
   "metadata": {},
   "source": [
    "## Efficiency scores\n",
    "\n",
    "The last assignment is to compute simple effiency scores. We will use the year 2014 for all countries (i.e. the dataframe \"graph1\").\n",
    "Make a new dateframe called \"eff\" (using graph1). Please use the \"pipe\" to execute to following steps:\n",
    "Select all the variables except the NA's (hint: use na.omit) and create a new column called \"Ratio\" with mutate. Ratio is defined as \"Cost/LE\" (cost per output).\n",
    "Create a new column called \"Score\" with mutate. Score is the ratio per country divided by the lowest ratio in the dataframe.\n",
    "To complete this dataframe order the dataset using \"arrange\" based on score (i.e. lowest Score first).\n",
    "\n",
    "\n",
    "Finally make a bar chart using ggplot. Countries should be on the x-axis and \"Score\" on the y-axis. \n",
    "\n",
    "\n",
    "\n",
    "You can earn extra points if you are able to order the graph based on scores (lowest first, highest last), if you are able to make the x-axis readable, make the bar of the Netherlands red and the other bars blue and/or change the name of the y-axis to \"Efficiency scores according to [your name]\" \n",
    "\n",
    "\n",
    "The figure should like this:\n",
    "\n",
    "![My Figure](eff.png)"
   ]
  },
  {
   "cell_type": "code",
   "execution_count": 92,
   "metadata": {
    "collapsed": false
   },
   "outputs": [],
   "source": [
    "graph1$Cost <- as.numeric(graph1$Cost)\n",
    "graph1$LE <- as.numeric(graph1$LE)"
   ]
  },
  {
   "cell_type": "code",
   "execution_count": 93,
   "metadata": {
    "collapsed": false
   },
   "outputs": [
    {
     "data": {
      "text/html": [
       "<table>\n",
       "<thead><tr><th scope=col>Country</th><th scope=col>Year</th><th scope=col>Cost</th><th scope=col>LE</th><th scope=col>Ratio</th><th scope=col>Score</th></tr></thead>\n",
       "<tbody>\n",
       "\t<tr><td>Turkey         </td><td>2014           </td><td>384            </td><td> 47            </td><td>8.1702128      </td><td>0.02225379     </td></tr>\n",
       "\t<tr><td>United States  </td><td>2014           </td><td>375            </td><td> 55            </td><td>6.8181818      </td><td>0.02666667     </td></tr>\n",
       "\t<tr><td>Denmark        </td><td>2014           </td><td>303            </td><td> 75            </td><td>4.0400000      </td><td>0.04500450     </td></tr>\n",
       "\t<tr><td>Germany        </td><td>2014           </td><td>319            </td><td> 79            </td><td>4.0379747      </td><td>0.04502707     </td></tr>\n",
       "\t<tr><td>Luxembourg     </td><td>2014           </td><td>347            </td><td> 90            </td><td>3.8555556      </td><td>0.04715745     </td></tr>\n",
       "\t<tr><td>Ireland        </td><td>2014           </td><td>312            </td><td> 81            </td><td>3.8518519      </td><td>0.04720280     </td></tr>\n",
       "\t<tr><td>Netherlands    </td><td>2014           </td><td>326            </td><td> 85            </td><td>3.8352941      </td><td>0.04740658     </td></tr>\n",
       "\t<tr><td>Norway         </td><td>2014           </td><td>338            </td><td> 89            </td><td>3.7977528      </td><td>0.04787520     </td></tr>\n",
       "\t<tr><td>Austria        </td><td>2014           </td><td>306            </td><td> 83            </td><td>3.6867470      </td><td>0.04931670     </td></tr>\n",
       "\t<tr><td>Belgium        </td><td>2014           </td><td>288            </td><td> 81            </td><td>3.5555556      </td><td>0.05113636     </td></tr>\n",
       "\t<tr><td>Switzerland    </td><td>2014           </td><td>348            </td><td> 99            </td><td>3.5151515      </td><td>0.05172414     </td></tr>\n",
       "\t<tr><td>Sweden         </td><td>2014           </td><td>316            </td><td> 90            </td><td>3.5111111      </td><td>0.05178366     </td></tr>\n",
       "\t<tr><td>United Kingdom </td><td>2014           </td><td>245            </td><td> 81            </td><td>3.0246914      </td><td>0.06011132     </td></tr>\n",
       "\t<tr><td>Finland        </td><td>2014           </td><td>237            </td><td> 80            </td><td>2.9625000      </td><td>0.06137323     </td></tr>\n",
       "\t<tr><td>France         </td><td>2014           </td><td>276            </td><td> 95            </td><td>2.9052632      </td><td>0.06258235     </td></tr>\n",
       "\t<tr><td>Australia      </td><td>2014           </td><td>264            </td><td> 91            </td><td>2.9010989      </td><td>0.06267218     </td></tr>\n",
       "\t<tr><td>Japan          </td><td>2014           </td><td>262            </td><td>101            </td><td>2.5940594      </td><td>0.07009022     </td></tr>\n",
       "\t<tr><td>New Zealand    </td><td>2014           </td><td>210            </td><td> 83            </td><td>2.5301205      </td><td>0.07186147     </td></tr>\n",
       "\t<tr><td>Iceland        </td><td>2014           </td><td>241            </td><td> 96            </td><td>2.5104167      </td><td>0.07242550     </td></tr>\n",
       "\t<tr><td>Hungary        </td><td>2014           </td><td> 64            </td><td> 30            </td><td>2.1333333      </td><td>0.08522727     </td></tr>\n",
       "\t<tr><td>Slovak Republic</td><td>2014           </td><td> 76            </td><td> 37            </td><td>2.0540541      </td><td>0.08851675     </td></tr>\n",
       "\t<tr><td>Czech Republic </td><td>2014           </td><td>106            </td><td> 56            </td><td>1.8928571      </td><td>0.09605489     </td></tr>\n",
       "\t<tr><td>Italy          </td><td>2014           </td><td>184            </td><td> 98            </td><td>1.8775510      </td><td>0.09683794     </td></tr>\n",
       "\t<tr><td>Slovenia       </td><td>2014           </td><td>132            </td><td> 79            </td><td>1.6708861      </td><td>0.10881543     </td></tr>\n",
       "\t<tr><td>Spain          </td><td>2014           </td><td>165            </td><td> 99            </td><td>1.6666667      </td><td>0.10909091     </td></tr>\n",
       "\t<tr><td>Portugal       </td><td>2014           </td><td>130            </td><td> 79            </td><td>1.6455696      </td><td>0.11048951     </td></tr>\n",
       "\t<tr><td>Estonia        </td><td>2014           </td><td> 57            </td><td> 40            </td><td>1.4250000      </td><td>0.12759171     </td></tr>\n",
       "\t<tr><td>Latvia         </td><td>2014           </td><td> 24            </td><td> 17            </td><td>1.4117647      </td><td>0.12878788     </td></tr>\n",
       "\t<tr><td>Israel         </td><td>2014           </td><td>123            </td><td> 89            </td><td>1.3820225      </td><td>0.13155950     </td></tr>\n",
       "\t<tr><td>Korea          </td><td>2014           </td><td>104            </td><td> 89            </td><td>1.1685393      </td><td>0.15559441     </td></tr>\n",
       "\t<tr><td>Greece         </td><td>2014           </td><td> 93            </td><td> 82            </td><td>1.1341463      </td><td>0.16031281     </td></tr>\n",
       "\t<tr><td>Poland         </td><td>2014           </td><td> 49            </td><td> 45            </td><td>1.0888889      </td><td>0.16697588     </td></tr>\n",
       "\t<tr><td>Chile          </td><td>2014           </td><td> 54            </td><td> 57            </td><td>0.9473684      </td><td>0.19191919     </td></tr>\n",
       "\t<tr><td>Mexico         </td><td>2014           </td><td>  4            </td><td> 22            </td><td>0.1818182      </td><td>1.00000000     </td></tr>\n",
       "</tbody>\n",
       "</table>\n"
      ],
      "text/latex": [
       "\\begin{tabular}{r|llllll}\n",
       " Country & Year & Cost & LE & Ratio & Score\\\\\n",
       "\\hline\n",
       "\t Turkey          & 2014            & 384             &  47             & 8.1702128       & 0.02225379     \\\\\n",
       "\t United States   & 2014            & 375             &  55             & 6.8181818       & 0.02666667     \\\\\n",
       "\t Denmark         & 2014            & 303             &  75             & 4.0400000       & 0.04500450     \\\\\n",
       "\t Germany         & 2014            & 319             &  79             & 4.0379747       & 0.04502707     \\\\\n",
       "\t Luxembourg      & 2014            & 347             &  90             & 3.8555556       & 0.04715745     \\\\\n",
       "\t Ireland         & 2014            & 312             &  81             & 3.8518519       & 0.04720280     \\\\\n",
       "\t Netherlands     & 2014            & 326             &  85             & 3.8352941       & 0.04740658     \\\\\n",
       "\t Norway          & 2014            & 338             &  89             & 3.7977528       & 0.04787520     \\\\\n",
       "\t Austria         & 2014            & 306             &  83             & 3.6867470       & 0.04931670     \\\\\n",
       "\t Belgium         & 2014            & 288             &  81             & 3.5555556       & 0.05113636     \\\\\n",
       "\t Switzerland     & 2014            & 348             &  99             & 3.5151515       & 0.05172414     \\\\\n",
       "\t Sweden          & 2014            & 316             &  90             & 3.5111111       & 0.05178366     \\\\\n",
       "\t United Kingdom  & 2014            & 245             &  81             & 3.0246914       & 0.06011132     \\\\\n",
       "\t Finland         & 2014            & 237             &  80             & 2.9625000       & 0.06137323     \\\\\n",
       "\t France          & 2014            & 276             &  95             & 2.9052632       & 0.06258235     \\\\\n",
       "\t Australia       & 2014            & 264             &  91             & 2.9010989       & 0.06267218     \\\\\n",
       "\t Japan           & 2014            & 262             & 101             & 2.5940594       & 0.07009022     \\\\\n",
       "\t New Zealand     & 2014            & 210             &  83             & 2.5301205       & 0.07186147     \\\\\n",
       "\t Iceland         & 2014            & 241             &  96             & 2.5104167       & 0.07242550     \\\\\n",
       "\t Hungary         & 2014            &  64             &  30             & 2.1333333       & 0.08522727     \\\\\n",
       "\t Slovak Republic & 2014            &  76             &  37             & 2.0540541       & 0.08851675     \\\\\n",
       "\t Czech Republic  & 2014            & 106             &  56             & 1.8928571       & 0.09605489     \\\\\n",
       "\t Italy           & 2014            & 184             &  98             & 1.8775510       & 0.09683794     \\\\\n",
       "\t Slovenia        & 2014            & 132             &  79             & 1.6708861       & 0.10881543     \\\\\n",
       "\t Spain           & 2014            & 165             &  99             & 1.6666667       & 0.10909091     \\\\\n",
       "\t Portugal        & 2014            & 130             &  79             & 1.6455696       & 0.11048951     \\\\\n",
       "\t Estonia         & 2014            &  57             &  40             & 1.4250000       & 0.12759171     \\\\\n",
       "\t Latvia          & 2014            &  24             &  17             & 1.4117647       & 0.12878788     \\\\\n",
       "\t Israel          & 2014            & 123             &  89             & 1.3820225       & 0.13155950     \\\\\n",
       "\t Korea           & 2014            & 104             &  89             & 1.1685393       & 0.15559441     \\\\\n",
       "\t Greece          & 2014            &  93             &  82             & 1.1341463       & 0.16031281     \\\\\n",
       "\t Poland          & 2014            &  49             &  45             & 1.0888889       & 0.16697588     \\\\\n",
       "\t Chile           & 2014            &  54             &  57             & 0.9473684       & 0.19191919     \\\\\n",
       "\t Mexico          & 2014            &   4             &  22             & 0.1818182       & 1.00000000     \\\\\n",
       "\\end{tabular}\n"
      ],
      "text/markdown": [
       "\n",
       "Country | Year | Cost | LE | Ratio | Score | \n",
       "|---|---|---|---|---|---|---|---|---|---|---|---|---|---|---|---|---|---|---|---|---|---|---|---|---|---|---|---|---|---|---|---|---|---|\n",
       "| Turkey          | 2014            | 384             |  47             | 8.1702128       | 0.02225379      | \n",
       "| United States   | 2014            | 375             |  55             | 6.8181818       | 0.02666667      | \n",
       "| Denmark         | 2014            | 303             |  75             | 4.0400000       | 0.04500450      | \n",
       "| Germany         | 2014            | 319             |  79             | 4.0379747       | 0.04502707      | \n",
       "| Luxembourg      | 2014            | 347             |  90             | 3.8555556       | 0.04715745      | \n",
       "| Ireland         | 2014            | 312             |  81             | 3.8518519       | 0.04720280      | \n",
       "| Netherlands     | 2014            | 326             |  85             | 3.8352941       | 0.04740658      | \n",
       "| Norway          | 2014            | 338             |  89             | 3.7977528       | 0.04787520      | \n",
       "| Austria         | 2014            | 306             |  83             | 3.6867470       | 0.04931670      | \n",
       "| Belgium         | 2014            | 288             |  81             | 3.5555556       | 0.05113636      | \n",
       "| Switzerland     | 2014            | 348             |  99             | 3.5151515       | 0.05172414      | \n",
       "| Sweden          | 2014            | 316             |  90             | 3.5111111       | 0.05178366      | \n",
       "| United Kingdom  | 2014            | 245             |  81             | 3.0246914       | 0.06011132      | \n",
       "| Finland         | 2014            | 237             |  80             | 2.9625000       | 0.06137323      | \n",
       "| France          | 2014            | 276             |  95             | 2.9052632       | 0.06258235      | \n",
       "| Australia       | 2014            | 264             |  91             | 2.9010989       | 0.06267218      | \n",
       "| Japan           | 2014            | 262             | 101             | 2.5940594       | 0.07009022      | \n",
       "| New Zealand     | 2014            | 210             |  83             | 2.5301205       | 0.07186147      | \n",
       "| Iceland         | 2014            | 241             |  96             | 2.5104167       | 0.07242550      | \n",
       "| Hungary         | 2014            |  64             |  30             | 2.1333333       | 0.08522727      | \n",
       "| Slovak Republic | 2014            |  76             |  37             | 2.0540541       | 0.08851675      | \n",
       "| Czech Republic  | 2014            | 106             |  56             | 1.8928571       | 0.09605489      | \n",
       "| Italy           | 2014            | 184             |  98             | 1.8775510       | 0.09683794      | \n",
       "| Slovenia        | 2014            | 132             |  79             | 1.6708861       | 0.10881543      | \n",
       "| Spain           | 2014            | 165             |  99             | 1.6666667       | 0.10909091      | \n",
       "| Portugal        | 2014            | 130             |  79             | 1.6455696       | 0.11048951      | \n",
       "| Estonia         | 2014            |  57             |  40             | 1.4250000       | 0.12759171      | \n",
       "| Latvia          | 2014            |  24             |  17             | 1.4117647       | 0.12878788      | \n",
       "| Israel          | 2014            | 123             |  89             | 1.3820225       | 0.13155950      | \n",
       "| Korea           | 2014            | 104             |  89             | 1.1685393       | 0.15559441      | \n",
       "| Greece          | 2014            |  93             |  82             | 1.1341463       | 0.16031281      | \n",
       "| Poland          | 2014            |  49             |  45             | 1.0888889       | 0.16697588      | \n",
       "| Chile           | 2014            |  54             |  57             | 0.9473684       | 0.19191919      | \n",
       "| Mexico          | 2014            |   4             |  22             | 0.1818182       | 1.00000000      | \n",
       "\n",
       "\n"
      ],
      "text/plain": [
       "   Country         Year Cost LE  Ratio     Score     \n",
       "1  Turkey          2014 384   47 8.1702128 0.02225379\n",
       "2  United States   2014 375   55 6.8181818 0.02666667\n",
       "3  Denmark         2014 303   75 4.0400000 0.04500450\n",
       "4  Germany         2014 319   79 4.0379747 0.04502707\n",
       "5  Luxembourg      2014 347   90 3.8555556 0.04715745\n",
       "6  Ireland         2014 312   81 3.8518519 0.04720280\n",
       "7  Netherlands     2014 326   85 3.8352941 0.04740658\n",
       "8  Norway          2014 338   89 3.7977528 0.04787520\n",
       "9  Austria         2014 306   83 3.6867470 0.04931670\n",
       "10 Belgium         2014 288   81 3.5555556 0.05113636\n",
       "11 Switzerland     2014 348   99 3.5151515 0.05172414\n",
       "12 Sweden          2014 316   90 3.5111111 0.05178366\n",
       "13 United Kingdom  2014 245   81 3.0246914 0.06011132\n",
       "14 Finland         2014 237   80 2.9625000 0.06137323\n",
       "15 France          2014 276   95 2.9052632 0.06258235\n",
       "16 Australia       2014 264   91 2.9010989 0.06267218\n",
       "17 Japan           2014 262  101 2.5940594 0.07009022\n",
       "18 New Zealand     2014 210   83 2.5301205 0.07186147\n",
       "19 Iceland         2014 241   96 2.5104167 0.07242550\n",
       "20 Hungary         2014  64   30 2.1333333 0.08522727\n",
       "21 Slovak Republic 2014  76   37 2.0540541 0.08851675\n",
       "22 Czech Republic  2014 106   56 1.8928571 0.09605489\n",
       "23 Italy           2014 184   98 1.8775510 0.09683794\n",
       "24 Slovenia        2014 132   79 1.6708861 0.10881543\n",
       "25 Spain           2014 165   99 1.6666667 0.10909091\n",
       "26 Portugal        2014 130   79 1.6455696 0.11048951\n",
       "27 Estonia         2014  57   40 1.4250000 0.12759171\n",
       "28 Latvia          2014  24   17 1.4117647 0.12878788\n",
       "29 Israel          2014 123   89 1.3820225 0.13155950\n",
       "30 Korea           2014 104   89 1.1685393 0.15559441\n",
       "31 Greece          2014  93   82 1.1341463 0.16031281\n",
       "32 Poland          2014  49   45 1.0888889 0.16697588\n",
       "33 Chile           2014  54   57 0.9473684 0.19191919\n",
       "34 Mexico          2014   4   22 0.1818182 1.00000000"
      ]
     },
     "metadata": {},
     "output_type": "display_data"
    }
   ],
   "source": [
    "eff <- graph1 %>%\n",
    "    na.omit(LE) %>%\n",
    "    mutate(Ratio = Cost / LE) %>%\n",
    "    mutate(Score = min(Ratio) / Ratio) %>%\n",
    "    arrange(Score)\n",
    "eff\n"
   ]
  },
  {
   "cell_type": "code",
   "execution_count": 107,
   "metadata": {
    "collapsed": false
   },
   "outputs": [
    {
     "data": {},
     "metadata": {},
     "output_type": "display_data"
    },
    {
     "data": {
      "image/png": "[encoded data removed]",
      "text/plain": [
       "plot without title"
      ]
     },
     "metadata": {},
     "output_type": "display_data"
    }
   ],
   "source": [
    "ggplot(eff, aes(x = reorder(Country,Score), y = Score, fill= Country)) + \n",
    "    guides(fill=FALSE) +\n",
    "    geom_bar(stat = \"identity\") +\n",
    "    xlab(\"Country\") +\n",
    "    ylab(\"Efficiency scores according to Martijn\") + \n",
    "    theme(axis.text.x = element_text(angle = 45, hjust = 1)) +\n",
    "    scale_fill_manual(values = c(rep(\"blue\",21),rep(\"red\",1),rep(\"blue\",12))) "
   ]
  },
  {
   "cell_type": "code",
   "execution_count": null,
   "metadata": {
    "collapsed": true
   },
   "outputs": [],
   "source": []
  }
 ],
 "metadata": {
  "anaconda-cloud": {},
  "kernelspec": {
   "display_name": "R",
   "language": "R",
   "name": "ir"
  },
  "language_info": {
   "codemirror_mode": "r",
   "file_extension": ".r",
   "mimetype": "text/x-r-source",
   "name": "R",
   "pygments_lexer": "r",
   "version": "3.3.2"
  }
 },
 "nbformat": 4,
 "nbformat_minor": 1
}
