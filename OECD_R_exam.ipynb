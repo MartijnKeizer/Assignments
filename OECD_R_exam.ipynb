{
 "cells": [
  {
   "cell_type": "markdown",
   "metadata": {},
   "source": [
    "# Exam\n",
    "\n",
    "In this exam, we will work with the \"frequently requested health data” from the OECD.\n",
    "Your task is to compute a simple “efficiency score” and make three plots. \n",
    "\n",
    "\n",
    "You will earn a higher grade if you provide nicer graphs.  \n"
   ]
  },
  {
   "cell_type": "markdown",
   "metadata": {},
   "source": [
    "Now you need to call the libaries\n",
    "\n",
    "* ggplot2\n",
    "* dplyr\n",
    "\n"
   ]
  },
  {
   "cell_type": "code",
   "execution_count": 34,
   "metadata": {
    "collapsed": false
   },
   "outputs": [],
   "source": [
    "library(ggplot2)\n",
    "library(dplyr)"
   ]
  },
  {
   "cell_type": "markdown",
   "metadata": {},
   "source": [
    "Now you have to read the de data that we have cleaned during tutorial 3. The csv file is called oecddata.csv"
   ]
  },
  {
   "cell_type": "code",
   "execution_count": 3,
   "metadata": {
    "collapsed": true
   },
   "outputs": [],
   "source": [
    "oecd <- read.csv(file=\"oecddata.csv\", header=TRUE, sep=\";\")"
   ]
  },
  {
   "cell_type": "markdown",
   "metadata": {},
   "source": [
    "To see how the data look like, use the command:\n",
    "\n",
    "head(oecd)\n",
    "\n",
    "With the command\n",
    "\n",
    "oecd\n",
    "\n",
    "\n",
    "You can see the dataset in total."
   ]
  },
  {
   "cell_type": "code",
   "execution_count": 4,
   "metadata": {
    "collapsed": false
   },
   "outputs": [
    {
     "data": {
      "text/html": [
       "<table>\n",
       "<thead><tr><th scope=col>X</th><th scope=col>Country</th><th scope=col>Year</th><th scope=col>Cost</th><th scope=col>LE</th></tr></thead>\n",
       "<tbody>\n",
       "\t<tr><td>1        </td><td>Australia</td><td>2005     </td><td>2842,1321</td><td>80,9     </td></tr>\n",
       "\t<tr><td>2        </td><td>Australia</td><td>2006     </td><td>3023,0978</td><td>81,1     </td></tr>\n",
       "\t<tr><td>3        </td><td>Australia</td><td>2007     </td><td>3196,226 </td><td>81,4     </td></tr>\n",
       "\t<tr><td>4        </td><td>Australia</td><td>2008     </td><td>3310,1708</td><td>81,5     </td></tr>\n",
       "\t<tr><td>5        </td><td>Australia</td><td>2009     </td><td>3564,4049</td><td>81,6     </td></tr>\n",
       "\t<tr><td>6        </td><td>Australia</td><td>2010     </td><td>3607,3407</td><td>81,8     </td></tr>\n",
       "</tbody>\n",
       "</table>\n"
      ],
      "text/latex": [
       "\\begin{tabular}{r|lllll}\n",
       " X & Country & Year & Cost & LE\\\\\n",
       "\\hline\n",
       "\t 1         & Australia & 2005      & 2842,1321 & 80,9     \\\\\n",
       "\t 2         & Australia & 2006      & 3023,0978 & 81,1     \\\\\n",
       "\t 3         & Australia & 2007      & 3196,226  & 81,4     \\\\\n",
       "\t 4         & Australia & 2008      & 3310,1708 & 81,5     \\\\\n",
       "\t 5         & Australia & 2009      & 3564,4049 & 81,6     \\\\\n",
       "\t 6         & Australia & 2010      & 3607,3407 & 81,8     \\\\\n",
       "\\end{tabular}\n"
      ],
      "text/markdown": [
       "\n",
       "X | Country | Year | Cost | LE | \n",
       "|---|---|---|---|---|---|\n",
       "| 1         | Australia | 2005      | 2842,1321 | 80,9      | \n",
       "| 2         | Australia | 2006      | 3023,0978 | 81,1      | \n",
       "| 3         | Australia | 2007      | 3196,226  | 81,4      | \n",
       "| 4         | Australia | 2008      | 3310,1708 | 81,5      | \n",
       "| 5         | Australia | 2009      | 3564,4049 | 81,6      | \n",
       "| 6         | Australia | 2010      | 3607,3407 | 81,8      | \n",
       "\n",
       "\n"
      ],
      "text/plain": [
       "  X Country   Year Cost      LE  \n",
       "1 1 Australia 2005 2842,1321 80,9\n",
       "2 2 Australia 2006 3023,0978 81,1\n",
       "3 3 Australia 2007 3196,226  81,4\n",
       "4 4 Australia 2008 3310,1708 81,5\n",
       "5 5 Australia 2009 3564,4049 81,6\n",
       "6 6 Australia 2010 3607,3407 81,8"
      ]
     },
     "metadata": {},
     "output_type": "display_data"
    }
   ],
   "source": [
    "head(oecd)"
   ]
  },
  {
   "cell_type": "markdown",
   "metadata": {},
   "source": [
    "## Graphs"
   ]
  },
  {
   "cell_type": "markdown",
   "metadata": {},
   "source": [
    "To make the graphs we need to make selections of the data. Please use \"dplyr\" (commands \"select\" and \"filter\") and the \"pipe\". The first assignment is to make a scatterplot using \"ggplot\". The graph contains data for all countries for the year 2014. Therefore make a dataframe with dplyr first, called \"graph1\" with the required data.\n",
    "Then, make a scatterplot with \"Cost\" on the x-axis and \"LE\" on the y-axis. You have to add a regression line with a shaded area for the confidence interval."
   ]
  },
  {
   "cell_type": "code",
   "execution_count": 29,
   "metadata": {
    "collapsed": false
   },
   "outputs": [
    {
     "data": {
      "text/html": [
       "<table>\n",
       "<thead><tr><th scope=col>Country</th><th scope=col>Year</th><th scope=col>Cost</th><th scope=col>LE</th></tr></thead>\n",
       "<tbody>\n",
       "\t<tr><td>Australia      </td><td>2014           </td><td>4206,8516      </td><td>82,4           </td></tr>\n",
       "\t<tr><td>Austria        </td><td>2014           </td><td>4895,9992      </td><td>81,6           </td></tr>\n",
       "\t<tr><td>Belgium        </td><td>2014           </td><td>4522,045       </td><td>81,4           </td></tr>\n",
       "\t<tr><td>Canada         </td><td>2014           </td><td>4491,7648      </td><td>NA             </td></tr>\n",
       "\t<tr><td>Chile          </td><td>2014           </td><td>1688,5233      </td><td>79             </td></tr>\n",
       "\t<tr><td>Czech Republic </td><td>2014           </td><td>2386,3385      </td><td>78,9           </td></tr>\n",
       "\t<tr><td>Denmark        </td><td>2014           </td><td>4857,0285      </td><td>80,8           </td></tr>\n",
       "\t<tr><td>Estonia        </td><td>2014           </td><td>1724,51        </td><td>77,2           </td></tr>\n",
       "\t<tr><td>Finland        </td><td>2014           </td><td>3870,4         </td><td>81,3           </td></tr>\n",
       "\t<tr><td>France         </td><td>2014           </td><td>4366,9864      </td><td>82,8           </td></tr>\n",
       "\t<tr><td>Germany        </td><td>2014           </td><td>5119,2146      </td><td>81,2           </td></tr>\n",
       "\t<tr><td>Greece         </td><td>2014           </td><td>2220,1065      </td><td>81,5           </td></tr>\n",
       "\t<tr><td>Hungary        </td><td>2014           </td><td>1796,6034      </td><td>75,9           </td></tr>\n",
       "\t<tr><td>Iceland        </td><td>2014           </td><td>3896,9251      </td><td>82,9           </td></tr>\n",
       "\t<tr><td>Ireland        </td><td>2014           </td><td>5001,322       </td><td>81,4           </td></tr>\n",
       "\t<tr><td>Israel         </td><td>2014           </td><td>2547,401       </td><td>82,2           </td></tr>\n",
       "\t<tr><td>Italy          </td><td>2014           </td><td>3206,8286      </td><td>83,2           </td></tr>\n",
       "\t<tr><td>Japan          </td><td>2014           </td><td>4152,3727      </td><td>83,7           </td></tr>\n",
       "\t<tr><td>Korea          </td><td>2014           </td><td>2361,44        </td><td>82,2           </td></tr>\n",
       "\t<tr><td>Latvia         </td><td>2014           </td><td>1295,0128      </td><td>74,3           </td></tr>\n",
       "\t<tr><td>Luxembourg     </td><td>2014           </td><td>6682,237       </td><td>82,3           </td></tr>\n",
       "\t<tr><td>Mexico         </td><td>2014           </td><td>1035,3389      </td><td>74,8           </td></tr>\n",
       "\t<tr><td>Netherlands    </td><td>2014           </td><td>5276,6003      </td><td>81,8           </td></tr>\n",
       "\t<tr><td>New Zealand    </td><td>2014           </td><td>3537,2568      </td><td>81,6           </td></tr>\n",
       "\t<tr><td>Norway         </td><td>2014           </td><td>6080,998       </td><td>82,2           </td></tr>\n",
       "\t<tr><td>Poland         </td><td>2014           </td><td>1624,8655      </td><td>77,7           </td></tr>\n",
       "\t<tr><td>Portugal       </td><td>2014           </td><td>2583,8438      </td><td>81,2           </td></tr>\n",
       "\t<tr><td>Slovak Republic</td><td>2014           </td><td>1970,523       </td><td>76,9           </td></tr>\n",
       "\t<tr><td>Slovenia       </td><td>2014           </td><td>2598,9066      </td><td>81,2           </td></tr>\n",
       "\t<tr><td>Spain          </td><td>2014           </td><td>3053,0745      </td><td>83,3           </td></tr>\n",
       "\t<tr><td>Sweden         </td><td>2014           </td><td>5065,1613      </td><td>82,3           </td></tr>\n",
       "\t<tr><td>Switzerland    </td><td>2014           </td><td>6786,5657      </td><td>83,3           </td></tr>\n",
       "\t<tr><td>Turkey         </td><td>2014           </td><td>990,1908       </td><td>78             </td></tr>\n",
       "\t<tr><td>United Kingdom </td><td>2014           </td><td>3971,394       </td><td>81,4           </td></tr>\n",
       "\t<tr><td>United States  </td><td>2014           </td><td>9024,2064      </td><td>78,8           </td></tr>\n",
       "</tbody>\n",
       "</table>\n"
      ],
      "text/latex": [
       "\\begin{tabular}{r|llll}\n",
       " Country & Year & Cost & LE\\\\\n",
       "\\hline\n",
       "\t Australia       & 2014            & 4206,8516       & 82,4           \\\\\n",
       "\t Austria         & 2014            & 4895,9992       & 81,6           \\\\\n",
       "\t Belgium         & 2014            & 4522,045        & 81,4           \\\\\n",
       "\t Canada          & 2014            & 4491,7648       & NA             \\\\\n",
       "\t Chile           & 2014            & 1688,5233       & 79             \\\\\n",
       "\t Czech Republic  & 2014            & 2386,3385       & 78,9           \\\\\n",
       "\t Denmark         & 2014            & 4857,0285       & 80,8           \\\\\n",
       "\t Estonia         & 2014            & 1724,51         & 77,2           \\\\\n",
       "\t Finland         & 2014            & 3870,4          & 81,3           \\\\\n",
       "\t France          & 2014            & 4366,9864       & 82,8           \\\\\n",
       "\t Germany         & 2014            & 5119,2146       & 81,2           \\\\\n",
       "\t Greece          & 2014            & 2220,1065       & 81,5           \\\\\n",
       "\t Hungary         & 2014            & 1796,6034       & 75,9           \\\\\n",
       "\t Iceland         & 2014            & 3896,9251       & 82,9           \\\\\n",
       "\t Ireland         & 2014            & 5001,322        & 81,4           \\\\\n",
       "\t Israel          & 2014            & 2547,401        & 82,2           \\\\\n",
       "\t Italy           & 2014            & 3206,8286       & 83,2           \\\\\n",
       "\t Japan           & 2014            & 4152,3727       & 83,7           \\\\\n",
       "\t Korea           & 2014            & 2361,44         & 82,2           \\\\\n",
       "\t Latvia          & 2014            & 1295,0128       & 74,3           \\\\\n",
       "\t Luxembourg      & 2014            & 6682,237        & 82,3           \\\\\n",
       "\t Mexico          & 2014            & 1035,3389       & 74,8           \\\\\n",
       "\t Netherlands     & 2014            & 5276,6003       & 81,8           \\\\\n",
       "\t New Zealand     & 2014            & 3537,2568       & 81,6           \\\\\n",
       "\t Norway          & 2014            & 6080,998        & 82,2           \\\\\n",
       "\t Poland          & 2014            & 1624,8655       & 77,7           \\\\\n",
       "\t Portugal        & 2014            & 2583,8438       & 81,2           \\\\\n",
       "\t Slovak Republic & 2014            & 1970,523        & 76,9           \\\\\n",
       "\t Slovenia        & 2014            & 2598,9066       & 81,2           \\\\\n",
       "\t Spain           & 2014            & 3053,0745       & 83,3           \\\\\n",
       "\t Sweden          & 2014            & 5065,1613       & 82,3           \\\\\n",
       "\t Switzerland     & 2014            & 6786,5657       & 83,3           \\\\\n",
       "\t Turkey          & 2014            & 990,1908        & 78             \\\\\n",
       "\t United Kingdom  & 2014            & 3971,394        & 81,4           \\\\\n",
       "\t United States   & 2014            & 9024,2064       & 78,8           \\\\\n",
       "\\end{tabular}\n"
      ],
      "text/markdown": [
       "\n",
       "Country | Year | Cost | LE | \n",
       "|---|---|---|---|---|---|---|---|---|---|---|---|---|---|---|---|---|---|---|---|---|---|---|---|---|---|---|---|---|---|---|---|---|---|---|\n",
       "| Australia       | 2014            | 4206,8516       | 82,4            | \n",
       "| Austria         | 2014            | 4895,9992       | 81,6            | \n",
       "| Belgium         | 2014            | 4522,045        | 81,4            | \n",
       "| Canada          | 2014            | 4491,7648       | NA              | \n",
       "| Chile           | 2014            | 1688,5233       | 79              | \n",
       "| Czech Republic  | 2014            | 2386,3385       | 78,9            | \n",
       "| Denmark         | 2014            | 4857,0285       | 80,8            | \n",
       "| Estonia         | 2014            | 1724,51         | 77,2            | \n",
       "| Finland         | 2014            | 3870,4          | 81,3            | \n",
       "| France          | 2014            | 4366,9864       | 82,8            | \n",
       "| Germany         | 2014            | 5119,2146       | 81,2            | \n",
       "| Greece          | 2014            | 2220,1065       | 81,5            | \n",
       "| Hungary         | 2014            | 1796,6034       | 75,9            | \n",
       "| Iceland         | 2014            | 3896,9251       | 82,9            | \n",
       "| Ireland         | 2014            | 5001,322        | 81,4            | \n",
       "| Israel          | 2014            | 2547,401        | 82,2            | \n",
       "| Italy           | 2014            | 3206,8286       | 83,2            | \n",
       "| Japan           | 2014            | 4152,3727       | 83,7            | \n",
       "| Korea           | 2014            | 2361,44         | 82,2            | \n",
       "| Latvia          | 2014            | 1295,0128       | 74,3            | \n",
       "| Luxembourg      | 2014            | 6682,237        | 82,3            | \n",
       "| Mexico          | 2014            | 1035,3389       | 74,8            | \n",
       "| Netherlands     | 2014            | 5276,6003       | 81,8            | \n",
       "| New Zealand     | 2014            | 3537,2568       | 81,6            | \n",
       "| Norway          | 2014            | 6080,998        | 82,2            | \n",
       "| Poland          | 2014            | 1624,8655       | 77,7            | \n",
       "| Portugal        | 2014            | 2583,8438       | 81,2            | \n",
       "| Slovak Republic | 2014            | 1970,523        | 76,9            | \n",
       "| Slovenia        | 2014            | 2598,9066       | 81,2            | \n",
       "| Spain           | 2014            | 3053,0745       | 83,3            | \n",
       "| Sweden          | 2014            | 5065,1613       | 82,3            | \n",
       "| Switzerland     | 2014            | 6786,5657       | 83,3            | \n",
       "| Turkey          | 2014            | 990,1908        | 78              | \n",
       "| United Kingdom  | 2014            | 3971,394        | 81,4            | \n",
       "| United States   | 2014            | 9024,2064       | 78,8            | \n",
       "\n",
       "\n"
      ],
      "text/plain": [
       "   Country         Year Cost      LE  \n",
       "1  Australia       2014 4206,8516 82,4\n",
       "2  Austria         2014 4895,9992 81,6\n",
       "3  Belgium         2014 4522,045  81,4\n",
       "4  Canada          2014 4491,7648 NA  \n",
       "5  Chile           2014 1688,5233 79  \n",
       "6  Czech Republic  2014 2386,3385 78,9\n",
       "7  Denmark         2014 4857,0285 80,8\n",
       "8  Estonia         2014 1724,51   77,2\n",
       "9  Finland         2014 3870,4    81,3\n",
       "10 France          2014 4366,9864 82,8\n",
       "11 Germany         2014 5119,2146 81,2\n",
       "12 Greece          2014 2220,1065 81,5\n",
       "13 Hungary         2014 1796,6034 75,9\n",
       "14 Iceland         2014 3896,9251 82,9\n",
       "15 Ireland         2014 5001,322  81,4\n",
       "16 Israel          2014 2547,401  82,2\n",
       "17 Italy           2014 3206,8286 83,2\n",
       "18 Japan           2014 4152,3727 83,7\n",
       "19 Korea           2014 2361,44   82,2\n",
       "20 Latvia          2014 1295,0128 74,3\n",
       "21 Luxembourg      2014 6682,237  82,3\n",
       "22 Mexico          2014 1035,3389 74,8\n",
       "23 Netherlands     2014 5276,6003 81,8\n",
       "24 New Zealand     2014 3537,2568 81,6\n",
       "25 Norway          2014 6080,998  82,2\n",
       "26 Poland          2014 1624,8655 77,7\n",
       "27 Portugal        2014 2583,8438 81,2\n",
       "28 Slovak Republic 2014 1970,523  76,9\n",
       "29 Slovenia        2014 2598,9066 81,2\n",
       "30 Spain           2014 3053,0745 83,3\n",
       "31 Sweden          2014 5065,1613 82,3\n",
       "32 Switzerland     2014 6786,5657 83,3\n",
       "33 Turkey          2014 990,1908  78  \n",
       "34 United Kingdom  2014 3971,394  81,4\n",
       "35 United States   2014 9024,2064 78,8"
      ]
     },
     "metadata": {},
     "output_type": "display_data"
    }
   ],
   "source": [
    "graph1 <- data.frame(oecd) %>%\n",
    "    select(Country, Year, Cost, LE) %>%\n",
    "    filter(Year == 2014)\n",
    "graph1\n"
   ]
  },
  {
   "cell_type": "code",
   "execution_count": 42,
   "metadata": {
    "collapsed": false
   },
   "outputs": [
    {
     "data": {},
     "metadata": {},
     "output_type": "display_data"
    },
    {
     "data": {
      "image/png": "[encoded data removed]",
      "text/plain": [
       "plot without title"
      ]
     },
     "metadata": {},
     "output_type": "display_data"
    }
   ],
   "source": [
    "ggplot(graph1, aes(x=Cost, y=LE)) +\n",
    "    geom_point(shape=1) +   \n",
    "    geom_smooth(method=lm)"
   ]
  },
  {
   "cell_type": "markdown",
   "metadata": {},
   "source": [
    "The second assignment is to make a line graph. You will use the years 2005-2015 for 5 countries (you can choose your own countries). Make a new dataframe called graph2 with the required data. Then, make a line graph with \"Year\"  and \"Cost\" on the y-axis. There should be coloured lines per country and a legend attached. "
   ]
  },
  {
   "cell_type": "code",
   "execution_count": 32,
   "metadata": {
    "collapsed": false
   },
   "outputs": [
    {
     "data": {},
     "metadata": {},
     "output_type": "display_data"
    },
    {
     "data": {
      "image/png": "[encoded data removed]",
      "text/plain": [
       "plot without title"
      ]
     },
     "metadata": {},
     "output_type": "display_data"
    }
   ],
   "source": [
    "ggplot(graph1, aes(x = Cost, y = LE)) + geom_point() + geom_smooth(method=lm)"
   ]
  },
  {
   "cell_type": "code",
   "execution_count": 27,
   "metadata": {
    "collapsed": false
   },
   "outputs": [
    {
     "data": {
      "text/html": [
       "<table>\n",
       "<thead><tr><th scope=col>Country</th><th scope=col>Year</th><th scope=col>Cost</th></tr></thead>\n",
       "<tbody>\n",
       "\t<tr><td>Slovak Republic</td><td>2005           </td><td>1093,9081      </td></tr>\n",
       "\t<tr><td>Slovak Republic</td><td>2006           </td><td>1294,5212      </td></tr>\n",
       "\t<tr><td>Slovak Republic</td><td>2007           </td><td>1545,5981      </td></tr>\n",
       "\t<tr><td>Slovak Republic</td><td>2008           </td><td>1665,2449      </td></tr>\n",
       "\t<tr><td>Slovak Republic</td><td>2009           </td><td>1849,6847      </td></tr>\n",
       "\t<tr><td>Slovak Republic</td><td>2010           </td><td>1917,8972      </td></tr>\n",
       "\t<tr><td>Slovak Republic</td><td>2011           </td><td>1871,8732      </td></tr>\n",
       "\t<tr><td>Slovak Republic</td><td>2012           </td><td>1999,5644      </td></tr>\n",
       "\t<tr><td>Slovak Republic</td><td>2013           </td><td>2073,0478      </td></tr>\n",
       "\t<tr><td>Slovak Republic</td><td>2014           </td><td>1970,523       </td></tr>\n",
       "\t<tr><td>Slovak Republic</td><td>2015           </td><td>2063,7541      </td></tr>\n",
       "\t<tr><td>Slovenia       </td><td>2005           </td><td>1902,6718      </td></tr>\n",
       "\t<tr><td>Slovenia       </td><td>2006           </td><td>2018,3504      </td></tr>\n",
       "\t<tr><td>Slovenia       </td><td>2007           </td><td>2074,3104      </td></tr>\n",
       "\t<tr><td>Slovenia       </td><td>2008           </td><td>2323,2728      </td></tr>\n",
       "\t<tr><td>Slovenia       </td><td>2009           </td><td>2355,0227      </td></tr>\n",
       "\t<tr><td>Slovenia       </td><td>2010           </td><td>2363,6692      </td></tr>\n",
       "\t<tr><td>Slovenia       </td><td>2011           </td><td>2435,0835      </td></tr>\n",
       "\t<tr><td>Slovenia       </td><td>2012           </td><td>2486,6141      </td></tr>\n",
       "\t<tr><td>Slovenia       </td><td>2013           </td><td>2548,6819      </td></tr>\n",
       "\t<tr><td>Slovenia       </td><td>2014           </td><td>2598,9066      </td></tr>\n",
       "\t<tr><td>Slovenia       </td><td>2015           </td><td>2643,8457      </td></tr>\n",
       "\t<tr><td>Spain          </td><td>2005           </td><td>2139,3333      </td></tr>\n",
       "\t<tr><td>Spain          </td><td>2006           </td><td>2393,3068      </td></tr>\n",
       "\t<tr><td>Spain          </td><td>2007           </td><td>2570,706       </td></tr>\n",
       "\t<tr><td>Spain          </td><td>2008           </td><td>2795,8694      </td></tr>\n",
       "\t<tr><td>Spain          </td><td>2009           </td><td>2944,6196      </td></tr>\n",
       "\t<tr><td>Spain          </td><td>2010           </td><td>2917,9495      </td></tr>\n",
       "\t<tr><td>Spain          </td><td>2011           </td><td>2956,7857      </td></tr>\n",
       "\t<tr><td>Spain          </td><td>2012           </td><td>2929,3567      </td></tr>\n",
       "\t<tr><td>Spain          </td><td>2013           </td><td>2952,175       </td></tr>\n",
       "\t<tr><td>Spain          </td><td>2014           </td><td>3053,0745      </td></tr>\n",
       "\t<tr><td>Spain          </td><td>2015           </td><td>3152,9869      </td></tr>\n",
       "\t<tr><td>Sweden         </td><td>2005           </td><td>2841,8221      </td></tr>\n",
       "\t<tr><td>Sweden         </td><td>2006           </td><td>3066,2039      </td></tr>\n",
       "\t<tr><td>Sweden         </td><td>2007           </td><td>3274,849       </td></tr>\n",
       "\t<tr><td>Sweden         </td><td>2008           </td><td>3481,5901      </td></tr>\n",
       "\t<tr><td>Sweden         </td><td>2009           </td><td>3547,1337      </td></tr>\n",
       "\t<tr><td>Sweden         </td><td>2010           </td><td>3543,5822      </td></tr>\n",
       "\t<tr><td>Sweden         </td><td>2011           </td><td>4667,6964      </td></tr>\n",
       "\t<tr><td>Sweden         </td><td>2012           </td><td>4860,2524      </td></tr>\n",
       "\t<tr><td>Sweden         </td><td>2013           </td><td>5003,1323      </td></tr>\n",
       "\t<tr><td>Sweden         </td><td>2014           </td><td>5065,1613      </td></tr>\n",
       "\t<tr><td>Sweden         </td><td>2015           </td><td>5227,8349      </td></tr>\n",
       "\t<tr><td>Switzerland    </td><td>2005           </td><td>4015,3331      </td></tr>\n",
       "\t<tr><td>Switzerland    </td><td>2006           </td><td>4251,3673      </td></tr>\n",
       "\t<tr><td>Switzerland    </td><td>2007           </td><td>4567,3285      </td></tr>\n",
       "\t<tr><td>Switzerland    </td><td>2008           </td><td>4933,1         </td></tr>\n",
       "\t<tr><td>Switzerland    </td><td>2009           </td><td>5183,952       </td></tr>\n",
       "\t<tr><td>Switzerland    </td><td>2010           </td><td>5371,4504      </td></tr>\n",
       "\t<tr><td>Switzerland    </td><td>2011           </td><td>5787,6672      </td></tr>\n",
       "\t<tr><td>Switzerland    </td><td>2012           </td><td>6288,6475      </td></tr>\n",
       "\t<tr><td>Switzerland    </td><td>2013           </td><td>6635,2769      </td></tr>\n",
       "\t<tr><td>Switzerland    </td><td>2014           </td><td>6786,5657      </td></tr>\n",
       "\t<tr><td>Switzerland    </td><td>2015           </td><td>6934,6782      </td></tr>\n",
       "</tbody>\n",
       "</table>\n"
      ],
      "text/latex": [
       "\\begin{tabular}{r|lll}\n",
       " Country & Year & Cost\\\\\n",
       "\\hline\n",
       "\t Slovak Republic & 2005            & 1093,9081      \\\\\n",
       "\t Slovak Republic & 2006            & 1294,5212      \\\\\n",
       "\t Slovak Republic & 2007            & 1545,5981      \\\\\n",
       "\t Slovak Republic & 2008            & 1665,2449      \\\\\n",
       "\t Slovak Republic & 2009            & 1849,6847      \\\\\n",
       "\t Slovak Republic & 2010            & 1917,8972      \\\\\n",
       "\t Slovak Republic & 2011            & 1871,8732      \\\\\n",
       "\t Slovak Republic & 2012            & 1999,5644      \\\\\n",
       "\t Slovak Republic & 2013            & 2073,0478      \\\\\n",
       "\t Slovak Republic & 2014            & 1970,523       \\\\\n",
       "\t Slovak Republic & 2015            & 2063,7541      \\\\\n",
       "\t Slovenia        & 2005            & 1902,6718      \\\\\n",
       "\t Slovenia        & 2006            & 2018,3504      \\\\\n",
       "\t Slovenia        & 2007            & 2074,3104      \\\\\n",
       "\t Slovenia        & 2008            & 2323,2728      \\\\\n",
       "\t Slovenia        & 2009            & 2355,0227      \\\\\n",
       "\t Slovenia        & 2010            & 2363,6692      \\\\\n",
       "\t Slovenia        & 2011            & 2435,0835      \\\\\n",
       "\t Slovenia        & 2012            & 2486,6141      \\\\\n",
       "\t Slovenia        & 2013            & 2548,6819      \\\\\n",
       "\t Slovenia        & 2014            & 2598,9066      \\\\\n",
       "\t Slovenia        & 2015            & 2643,8457      \\\\\n",
       "\t Spain           & 2005            & 2139,3333      \\\\\n",
       "\t Spain           & 2006            & 2393,3068      \\\\\n",
       "\t Spain           & 2007            & 2570,706       \\\\\n",
       "\t Spain           & 2008            & 2795,8694      \\\\\n",
       "\t Spain           & 2009            & 2944,6196      \\\\\n",
       "\t Spain           & 2010            & 2917,9495      \\\\\n",
       "\t Spain           & 2011            & 2956,7857      \\\\\n",
       "\t Spain           & 2012            & 2929,3567      \\\\\n",
       "\t Spain           & 2013            & 2952,175       \\\\\n",
       "\t Spain           & 2014            & 3053,0745      \\\\\n",
       "\t Spain           & 2015            & 3152,9869      \\\\\n",
       "\t Sweden          & 2005            & 2841,8221      \\\\\n",
       "\t Sweden          & 2006            & 3066,2039      \\\\\n",
       "\t Sweden          & 2007            & 3274,849       \\\\\n",
       "\t Sweden          & 2008            & 3481,5901      \\\\\n",
       "\t Sweden          & 2009            & 3547,1337      \\\\\n",
       "\t Sweden          & 2010            & 3543,5822      \\\\\n",
       "\t Sweden          & 2011            & 4667,6964      \\\\\n",
       "\t Sweden          & 2012            & 4860,2524      \\\\\n",
       "\t Sweden          & 2013            & 5003,1323      \\\\\n",
       "\t Sweden          & 2014            & 5065,1613      \\\\\n",
       "\t Sweden          & 2015            & 5227,8349      \\\\\n",
       "\t Switzerland     & 2005            & 4015,3331      \\\\\n",
       "\t Switzerland     & 2006            & 4251,3673      \\\\\n",
       "\t Switzerland     & 2007            & 4567,3285      \\\\\n",
       "\t Switzerland     & 2008            & 4933,1         \\\\\n",
       "\t Switzerland     & 2009            & 5183,952       \\\\\n",
       "\t Switzerland     & 2010            & 5371,4504      \\\\\n",
       "\t Switzerland     & 2011            & 5787,6672      \\\\\n",
       "\t Switzerland     & 2012            & 6288,6475      \\\\\n",
       "\t Switzerland     & 2013            & 6635,2769      \\\\\n",
       "\t Switzerland     & 2014            & 6786,5657      \\\\\n",
       "\t Switzerland     & 2015            & 6934,6782      \\\\\n",
       "\\end{tabular}\n"
      ],
      "text/markdown": [
       "\n",
       "Country | Year | Cost | \n",
       "|---|---|---|---|---|---|---|---|---|---|---|---|---|---|---|---|---|---|---|---|---|---|---|---|---|---|---|---|---|---|---|---|---|---|---|---|---|---|---|---|---|---|---|---|---|---|---|---|---|---|---|---|---|---|---|\n",
       "| Slovak Republic | 2005            | 1093,9081       | \n",
       "| Slovak Republic | 2006            | 1294,5212       | \n",
       "| Slovak Republic | 2007            | 1545,5981       | \n",
       "| Slovak Republic | 2008            | 1665,2449       | \n",
       "| Slovak Republic | 2009            | 1849,6847       | \n",
       "| Slovak Republic | 2010            | 1917,8972       | \n",
       "| Slovak Republic | 2011            | 1871,8732       | \n",
       "| Slovak Republic | 2012            | 1999,5644       | \n",
       "| Slovak Republic | 2013            | 2073,0478       | \n",
       "| Slovak Republic | 2014            | 1970,523        | \n",
       "| Slovak Republic | 2015            | 2063,7541       | \n",
       "| Slovenia        | 2005            | 1902,6718       | \n",
       "| Slovenia        | 2006            | 2018,3504       | \n",
       "| Slovenia        | 2007            | 2074,3104       | \n",
       "| Slovenia        | 2008            | 2323,2728       | \n",
       "| Slovenia        | 2009            | 2355,0227       | \n",
       "| Slovenia        | 2010            | 2363,6692       | \n",
       "| Slovenia        | 2011            | 2435,0835       | \n",
       "| Slovenia        | 2012            | 2486,6141       | \n",
       "| Slovenia        | 2013            | 2548,6819       | \n",
       "| Slovenia        | 2014            | 2598,9066       | \n",
       "| Slovenia        | 2015            | 2643,8457       | \n",
       "| Spain           | 2005            | 2139,3333       | \n",
       "| Spain           | 2006            | 2393,3068       | \n",
       "| Spain           | 2007            | 2570,706        | \n",
       "| Spain           | 2008            | 2795,8694       | \n",
       "| Spain           | 2009            | 2944,6196       | \n",
       "| Spain           | 2010            | 2917,9495       | \n",
       "| Spain           | 2011            | 2956,7857       | \n",
       "| Spain           | 2012            | 2929,3567       | \n",
       "| Spain           | 2013            | 2952,175        | \n",
       "| Spain           | 2014            | 3053,0745       | \n",
       "| Spain           | 2015            | 3152,9869       | \n",
       "| Sweden          | 2005            | 2841,8221       | \n",
       "| Sweden          | 2006            | 3066,2039       | \n",
       "| Sweden          | 2007            | 3274,849        | \n",
       "| Sweden          | 2008            | 3481,5901       | \n",
       "| Sweden          | 2009            | 3547,1337       | \n",
       "| Sweden          | 2010            | 3543,5822       | \n",
       "| Sweden          | 2011            | 4667,6964       | \n",
       "| Sweden          | 2012            | 4860,2524       | \n",
       "| Sweden          | 2013            | 5003,1323       | \n",
       "| Sweden          | 2014            | 5065,1613       | \n",
       "| Sweden          | 2015            | 5227,8349       | \n",
       "| Switzerland     | 2005            | 4015,3331       | \n",
       "| Switzerland     | 2006            | 4251,3673       | \n",
       "| Switzerland     | 2007            | 4567,3285       | \n",
       "| Switzerland     | 2008            | 4933,1          | \n",
       "| Switzerland     | 2009            | 5183,952        | \n",
       "| Switzerland     | 2010            | 5371,4504       | \n",
       "| Switzerland     | 2011            | 5787,6672       | \n",
       "| Switzerland     | 2012            | 6288,6475       | \n",
       "| Switzerland     | 2013            | 6635,2769       | \n",
       "| Switzerland     | 2014            | 6786,5657       | \n",
       "| Switzerland     | 2015            | 6934,6782       | \n",
       "\n",
       "\n"
      ],
      "text/plain": [
       "   Country         Year Cost     \n",
       "1  Slovak Republic 2005 1093,9081\n",
       "2  Slovak Republic 2006 1294,5212\n",
       "3  Slovak Republic 2007 1545,5981\n",
       "4  Slovak Republic 2008 1665,2449\n",
       "5  Slovak Republic 2009 1849,6847\n",
       "6  Slovak Republic 2010 1917,8972\n",
       "7  Slovak Republic 2011 1871,8732\n",
       "8  Slovak Republic 2012 1999,5644\n",
       "9  Slovak Republic 2013 2073,0478\n",
       "10 Slovak Republic 2014 1970,523 \n",
       "11 Slovak Republic 2015 2063,7541\n",
       "12 Slovenia        2005 1902,6718\n",
       "13 Slovenia        2006 2018,3504\n",
       "14 Slovenia        2007 2074,3104\n",
       "15 Slovenia        2008 2323,2728\n",
       "16 Slovenia        2009 2355,0227\n",
       "17 Slovenia        2010 2363,6692\n",
       "18 Slovenia        2011 2435,0835\n",
       "19 Slovenia        2012 2486,6141\n",
       "20 Slovenia        2013 2548,6819\n",
       "21 Slovenia        2014 2598,9066\n",
       "22 Slovenia        2015 2643,8457\n",
       "23 Spain           2005 2139,3333\n",
       "24 Spain           2006 2393,3068\n",
       "25 Spain           2007 2570,706 \n",
       "26 Spain           2008 2795,8694\n",
       "27 Spain           2009 2944,6196\n",
       "28 Spain           2010 2917,9495\n",
       "29 Spain           2011 2956,7857\n",
       "30 Spain           2012 2929,3567\n",
       "31 Spain           2013 2952,175 \n",
       "32 Spain           2014 3053,0745\n",
       "33 Spain           2015 3152,9869\n",
       "34 Sweden          2005 2841,8221\n",
       "35 Sweden          2006 3066,2039\n",
       "36 Sweden          2007 3274,849 \n",
       "37 Sweden          2008 3481,5901\n",
       "38 Sweden          2009 3547,1337\n",
       "39 Sweden          2010 3543,5822\n",
       "40 Sweden          2011 4667,6964\n",
       "41 Sweden          2012 4860,2524\n",
       "42 Sweden          2013 5003,1323\n",
       "43 Sweden          2014 5065,1613\n",
       "44 Sweden          2015 5227,8349\n",
       "45 Switzerland     2005 4015,3331\n",
       "46 Switzerland     2006 4251,3673\n",
       "47 Switzerland     2007 4567,3285\n",
       "48 Switzerland     2008 4933,1   \n",
       "49 Switzerland     2009 5183,952 \n",
       "50 Switzerland     2010 5371,4504\n",
       "51 Switzerland     2011 5787,6672\n",
       "52 Switzerland     2012 6288,6475\n",
       "53 Switzerland     2013 6635,2769\n",
       "54 Switzerland     2014 6786,5657\n",
       "55 Switzerland     2015 6934,6782"
      ]
     },
     "metadata": {},
     "output_type": "display_data"
    }
   ],
   "source": [
    "graph2 <- data.frame(oecd) %>%\n",
    "    select(Country, Year, Cost) %>%\n",
    "    filter(Country %in% c(\"Slovak Republic\", \"Slovenia\", \"Spain\", \"Sweden\", \"Switzerland\"))\n",
    "graph2"
   ]
  },
  {
   "cell_type": "code",
   "execution_count": 28,
   "metadata": {
    "collapsed": false
   },
   "outputs": [
    {
     "name": "stderr",
     "output_type": "stream",
     "text": [
      "geom_path: Each group consists of only one observation. Do you need to adjust\n",
      "the group aesthetic?\n"
     ]
    },
    {
     "data": {},
     "metadata": {},
     "output_type": "display_data"
    },
    {
     "data": {
      "image/png": "[encoded data removed]",
      "text/plain": [
       "plot without title"
      ]
     },
     "metadata": {},
     "output_type": "display_data"
    }
   ],
   "source": [
    "graph2$Country <- as.factor(graph2$Country)\n",
    "ggplot(graph2, aes(x = Year, y = Cost, col = Country))+ geom_line()"
   ]
  },
  {
   "cell_type": "markdown",
   "metadata": {},
   "source": [
    "## Efficiency scores\n",
    "\n",
    "The last assignment is to compute simple effiency scores. We will use the year 2014 for all countries (i.e. the dataframe \"graph1\").\n",
    "Make a new dateframe called \"eff\" (using graph1). Please use the \"pipe\" to execute to following steps:\n",
    "Select all the variables except the NA's (hint: use na.omit) and create a new column called \"Ratio\" with mutate. Ratio is defined as \"Cost/LE\" (cost per output).\n",
    "Create a new column called \"Score\" with mutate. Score is the ratio per country divided by the lowest ratio in the dataframe.\n",
    "To complete this dataframe order the dataset using \"arrange\" based on score (i.e. lowest Score first).\n",
    "\n",
    "\n",
    "Finally make a bar chart using ggplot. Countries should be on the x-axis and \"Score\" on the y-axis. \n",
    "\n",
    "\n",
    "\n",
    "You can earn extra points if you are able to order the graph based on scores (lowest first, highest last), if you are able to make the x-axis readable, make the bar of the Netherlands red and the other bars blue and/or change the name of the y-axis to \"Efficiency scores according to [your name]\" \n",
    "\n",
    "\n",
    "The figure should like this:\n",
    "\n",
    "![My Figure](eff.png)"
   ]
  },
  {
   "cell_type": "code",
   "execution_count": 12,
   "metadata": {
    "collapsed": false
   },
   "outputs": [
    {
     "name": "stderr",
     "output_type": "stream",
     "text": [
      "Warning message in Ops.factor(structure(c(264L, 306L, 288L, 54L, 106L, 303L, 57L, :\n",
      "\"'/' not meaningful for factors\""
     ]
    },
    {
     "data": {
      "text/html": [
       "<table>\n",
       "<thead><tr><th scope=col>X</th><th scope=col>Country</th><th scope=col>Year</th><th scope=col>Cost</th><th scope=col>LE</th><th scope=col>Ratio</th><th scope=col>Score</th></tr></thead>\n",
       "<tbody>\n",
       "\t<tr><td> 10            </td><td>Australia      </td><td>2014           </td><td>4206,8516      </td><td>82,4           </td><td>NA             </td><td>NA             </td></tr>\n",
       "\t<tr><td> 21            </td><td>Austria        </td><td>2014           </td><td>4895,9992      </td><td>81,6           </td><td>NA             </td><td>NA             </td></tr>\n",
       "\t<tr><td> 32            </td><td>Belgium        </td><td>2014           </td><td>4522,045       </td><td>81,4           </td><td>NA             </td><td>NA             </td></tr>\n",
       "\t<tr><td> 54            </td><td>Chile          </td><td>2014           </td><td>1688,5233      </td><td>79             </td><td>NA             </td><td>NA             </td></tr>\n",
       "\t<tr><td> 65            </td><td>Czech Republic </td><td>2014           </td><td>2386,3385      </td><td>78,9           </td><td>NA             </td><td>NA             </td></tr>\n",
       "\t<tr><td> 76            </td><td>Denmark        </td><td>2014           </td><td>4857,0285      </td><td>80,8           </td><td>NA             </td><td>NA             </td></tr>\n",
       "\t<tr><td> 87            </td><td>Estonia        </td><td>2014           </td><td>1724,51        </td><td>77,2           </td><td>NA             </td><td>NA             </td></tr>\n",
       "\t<tr><td> 98            </td><td>Finland        </td><td>2014           </td><td>3870,4         </td><td>81,3           </td><td>NA             </td><td>NA             </td></tr>\n",
       "\t<tr><td>109            </td><td>France         </td><td>2014           </td><td>4366,9864      </td><td>82,8           </td><td>NA             </td><td>NA             </td></tr>\n",
       "\t<tr><td>120            </td><td>Germany        </td><td>2014           </td><td>5119,2146      </td><td>81,2           </td><td>NA             </td><td>NA             </td></tr>\n",
       "\t<tr><td>131            </td><td>Greece         </td><td>2014           </td><td>2220,1065      </td><td>81,5           </td><td>NA             </td><td>NA             </td></tr>\n",
       "\t<tr><td>142            </td><td>Hungary        </td><td>2014           </td><td>1796,6034      </td><td>75,9           </td><td>NA             </td><td>NA             </td></tr>\n",
       "\t<tr><td>153            </td><td>Iceland        </td><td>2014           </td><td>3896,9251      </td><td>82,9           </td><td>NA             </td><td>NA             </td></tr>\n",
       "\t<tr><td>164            </td><td>Ireland        </td><td>2014           </td><td>5001,322       </td><td>81,4           </td><td>NA             </td><td>NA             </td></tr>\n",
       "\t<tr><td>175            </td><td>Israel         </td><td>2014           </td><td>2547,401       </td><td>82,2           </td><td>NA             </td><td>NA             </td></tr>\n",
       "\t<tr><td>186            </td><td>Italy          </td><td>2014           </td><td>3206,8286      </td><td>83,2           </td><td>NA             </td><td>NA             </td></tr>\n",
       "\t<tr><td>197            </td><td>Japan          </td><td>2014           </td><td>4152,3727      </td><td>83,7           </td><td>NA             </td><td>NA             </td></tr>\n",
       "\t<tr><td>208            </td><td>Korea          </td><td>2014           </td><td>2361,44        </td><td>82,2           </td><td>NA             </td><td>NA             </td></tr>\n",
       "\t<tr><td>219            </td><td>Latvia         </td><td>2014           </td><td>1295,0128      </td><td>74,3           </td><td>NA             </td><td>NA             </td></tr>\n",
       "\t<tr><td>230            </td><td>Luxembourg     </td><td>2014           </td><td>6682,237       </td><td>82,3           </td><td>NA             </td><td>NA             </td></tr>\n",
       "\t<tr><td>241            </td><td>Mexico         </td><td>2014           </td><td>1035,3389      </td><td>74,8           </td><td>NA             </td><td>NA             </td></tr>\n",
       "\t<tr><td>252            </td><td>Netherlands    </td><td>2014           </td><td>5276,6003      </td><td>81,8           </td><td>NA             </td><td>NA             </td></tr>\n",
       "\t<tr><td>263            </td><td>New Zealand    </td><td>2014           </td><td>3537,2568      </td><td>81,6           </td><td>NA             </td><td>NA             </td></tr>\n",
       "\t<tr><td>274            </td><td>Norway         </td><td>2014           </td><td>6080,998       </td><td>82,2           </td><td>NA             </td><td>NA             </td></tr>\n",
       "\t<tr><td>285            </td><td>Poland         </td><td>2014           </td><td>1624,8655      </td><td>77,7           </td><td>NA             </td><td>NA             </td></tr>\n",
       "\t<tr><td>296            </td><td>Portugal       </td><td>2014           </td><td>2583,8438      </td><td>81,2           </td><td>NA             </td><td>NA             </td></tr>\n",
       "\t<tr><td>307            </td><td>Slovak Republic</td><td>2014           </td><td>1970,523       </td><td>76,9           </td><td>NA             </td><td>NA             </td></tr>\n",
       "\t<tr><td>318            </td><td>Slovenia       </td><td>2014           </td><td>2598,9066      </td><td>81,2           </td><td>NA             </td><td>NA             </td></tr>\n",
       "\t<tr><td>329            </td><td>Spain          </td><td>2014           </td><td>3053,0745      </td><td>83,3           </td><td>NA             </td><td>NA             </td></tr>\n",
       "\t<tr><td>340            </td><td>Sweden         </td><td>2014           </td><td>5065,1613      </td><td>82,3           </td><td>NA             </td><td>NA             </td></tr>\n",
       "\t<tr><td>351            </td><td>Switzerland    </td><td>2014           </td><td>6786,5657      </td><td>83,3           </td><td>NA             </td><td>NA             </td></tr>\n",
       "\t<tr><td>362            </td><td>Turkey         </td><td>2014           </td><td>990,1908       </td><td>78             </td><td>NA             </td><td>NA             </td></tr>\n",
       "\t<tr><td>373            </td><td>United Kingdom </td><td>2014           </td><td>3971,394       </td><td>81,4           </td><td>NA             </td><td>NA             </td></tr>\n",
       "\t<tr><td>384            </td><td>United States  </td><td>2014           </td><td>9024,2064      </td><td>78,8           </td><td>NA             </td><td>NA             </td></tr>\n",
       "</tbody>\n",
       "</table>\n"
      ],
      "text/latex": [
       "\\begin{tabular}{r|lllllll}\n",
       " X & Country & Year & Cost & LE & Ratio & Score\\\\\n",
       "\\hline\n",
       "\t  10             & Australia       & 2014            & 4206,8516       & 82,4            & NA              & NA             \\\\\n",
       "\t  21             & Austria         & 2014            & 4895,9992       & 81,6            & NA              & NA             \\\\\n",
       "\t  32             & Belgium         & 2014            & 4522,045        & 81,4            & NA              & NA             \\\\\n",
       "\t  54             & Chile           & 2014            & 1688,5233       & 79              & NA              & NA             \\\\\n",
       "\t  65             & Czech Republic  & 2014            & 2386,3385       & 78,9            & NA              & NA             \\\\\n",
       "\t  76             & Denmark         & 2014            & 4857,0285       & 80,8            & NA              & NA             \\\\\n",
       "\t  87             & Estonia         & 2014            & 1724,51         & 77,2            & NA              & NA             \\\\\n",
       "\t  98             & Finland         & 2014            & 3870,4          & 81,3            & NA              & NA             \\\\\n",
       "\t 109             & France          & 2014            & 4366,9864       & 82,8            & NA              & NA             \\\\\n",
       "\t 120             & Germany         & 2014            & 5119,2146       & 81,2            & NA              & NA             \\\\\n",
       "\t 131             & Greece          & 2014            & 2220,1065       & 81,5            & NA              & NA             \\\\\n",
       "\t 142             & Hungary         & 2014            & 1796,6034       & 75,9            & NA              & NA             \\\\\n",
       "\t 153             & Iceland         & 2014            & 3896,9251       & 82,9            & NA              & NA             \\\\\n",
       "\t 164             & Ireland         & 2014            & 5001,322        & 81,4            & NA              & NA             \\\\\n",
       "\t 175             & Israel          & 2014            & 2547,401        & 82,2            & NA              & NA             \\\\\n",
       "\t 186             & Italy           & 2014            & 3206,8286       & 83,2            & NA              & NA             \\\\\n",
       "\t 197             & Japan           & 2014            & 4152,3727       & 83,7            & NA              & NA             \\\\\n",
       "\t 208             & Korea           & 2014            & 2361,44         & 82,2            & NA              & NA             \\\\\n",
       "\t 219             & Latvia          & 2014            & 1295,0128       & 74,3            & NA              & NA             \\\\\n",
       "\t 230             & Luxembourg      & 2014            & 6682,237        & 82,3            & NA              & NA             \\\\\n",
       "\t 241             & Mexico          & 2014            & 1035,3389       & 74,8            & NA              & NA             \\\\\n",
       "\t 252             & Netherlands     & 2014            & 5276,6003       & 81,8            & NA              & NA             \\\\\n",
       "\t 263             & New Zealand     & 2014            & 3537,2568       & 81,6            & NA              & NA             \\\\\n",
       "\t 274             & Norway          & 2014            & 6080,998        & 82,2            & NA              & NA             \\\\\n",
       "\t 285             & Poland          & 2014            & 1624,8655       & 77,7            & NA              & NA             \\\\\n",
       "\t 296             & Portugal        & 2014            & 2583,8438       & 81,2            & NA              & NA             \\\\\n",
       "\t 307             & Slovak Republic & 2014            & 1970,523        & 76,9            & NA              & NA             \\\\\n",
       "\t 318             & Slovenia        & 2014            & 2598,9066       & 81,2            & NA              & NA             \\\\\n",
       "\t 329             & Spain           & 2014            & 3053,0745       & 83,3            & NA              & NA             \\\\\n",
       "\t 340             & Sweden          & 2014            & 5065,1613       & 82,3            & NA              & NA             \\\\\n",
       "\t 351             & Switzerland     & 2014            & 6786,5657       & 83,3            & NA              & NA             \\\\\n",
       "\t 362             & Turkey          & 2014            & 990,1908        & 78              & NA              & NA             \\\\\n",
       "\t 373             & United Kingdom  & 2014            & 3971,394        & 81,4            & NA              & NA             \\\\\n",
       "\t 384             & United States   & 2014            & 9024,2064       & 78,8            & NA              & NA             \\\\\n",
       "\\end{tabular}\n"
      ],
      "text/markdown": [
       "\n",
       "X | Country | Year | Cost | LE | Ratio | Score | \n",
       "|---|---|---|---|---|---|---|---|---|---|---|---|---|---|---|---|---|---|---|---|---|---|---|---|---|---|---|---|---|---|---|---|---|---|\n",
       "|  10             | Australia       | 2014            | 4206,8516       | 82,4            | NA              | NA              | \n",
       "|  21             | Austria         | 2014            | 4895,9992       | 81,6            | NA              | NA              | \n",
       "|  32             | Belgium         | 2014            | 4522,045        | 81,4            | NA              | NA              | \n",
       "|  54             | Chile           | 2014            | 1688,5233       | 79              | NA              | NA              | \n",
       "|  65             | Czech Republic  | 2014            | 2386,3385       | 78,9            | NA              | NA              | \n",
       "|  76             | Denmark         | 2014            | 4857,0285       | 80,8            | NA              | NA              | \n",
       "|  87             | Estonia         | 2014            | 1724,51         | 77,2            | NA              | NA              | \n",
       "|  98             | Finland         | 2014            | 3870,4          | 81,3            | NA              | NA              | \n",
       "| 109             | France          | 2014            | 4366,9864       | 82,8            | NA              | NA              | \n",
       "| 120             | Germany         | 2014            | 5119,2146       | 81,2            | NA              | NA              | \n",
       "| 131             | Greece          | 2014            | 2220,1065       | 81,5            | NA              | NA              | \n",
       "| 142             | Hungary         | 2014            | 1796,6034       | 75,9            | NA              | NA              | \n",
       "| 153             | Iceland         | 2014            | 3896,9251       | 82,9            | NA              | NA              | \n",
       "| 164             | Ireland         | 2014            | 5001,322        | 81,4            | NA              | NA              | \n",
       "| 175             | Israel          | 2014            | 2547,401        | 82,2            | NA              | NA              | \n",
       "| 186             | Italy           | 2014            | 3206,8286       | 83,2            | NA              | NA              | \n",
       "| 197             | Japan           | 2014            | 4152,3727       | 83,7            | NA              | NA              | \n",
       "| 208             | Korea           | 2014            | 2361,44         | 82,2            | NA              | NA              | \n",
       "| 219             | Latvia          | 2014            | 1295,0128       | 74,3            | NA              | NA              | \n",
       "| 230             | Luxembourg      | 2014            | 6682,237        | 82,3            | NA              | NA              | \n",
       "| 241             | Mexico          | 2014            | 1035,3389       | 74,8            | NA              | NA              | \n",
       "| 252             | Netherlands     | 2014            | 5276,6003       | 81,8            | NA              | NA              | \n",
       "| 263             | New Zealand     | 2014            | 3537,2568       | 81,6            | NA              | NA              | \n",
       "| 274             | Norway          | 2014            | 6080,998        | 82,2            | NA              | NA              | \n",
       "| 285             | Poland          | 2014            | 1624,8655       | 77,7            | NA              | NA              | \n",
       "| 296             | Portugal        | 2014            | 2583,8438       | 81,2            | NA              | NA              | \n",
       "| 307             | Slovak Republic | 2014            | 1970,523        | 76,9            | NA              | NA              | \n",
       "| 318             | Slovenia        | 2014            | 2598,9066       | 81,2            | NA              | NA              | \n",
       "| 329             | Spain           | 2014            | 3053,0745       | 83,3            | NA              | NA              | \n",
       "| 340             | Sweden          | 2014            | 5065,1613       | 82,3            | NA              | NA              | \n",
       "| 351             | Switzerland     | 2014            | 6786,5657       | 83,3            | NA              | NA              | \n",
       "| 362             | Turkey          | 2014            | 990,1908        | 78              | NA              | NA              | \n",
       "| 373             | United Kingdom  | 2014            | 3971,394        | 81,4            | NA              | NA              | \n",
       "| 384             | United States   | 2014            | 9024,2064       | 78,8            | NA              | NA              | \n",
       "\n",
       "\n"
      ],
      "text/plain": [
       "   X   Country         Year Cost      LE   Ratio Score\n",
       "1   10 Australia       2014 4206,8516 82,4 NA    NA   \n",
       "2   21 Austria         2014 4895,9992 81,6 NA    NA   \n",
       "3   32 Belgium         2014 4522,045  81,4 NA    NA   \n",
       "4   54 Chile           2014 1688,5233 79   NA    NA   \n",
       "5   65 Czech Republic  2014 2386,3385 78,9 NA    NA   \n",
       "6   76 Denmark         2014 4857,0285 80,8 NA    NA   \n",
       "7   87 Estonia         2014 1724,51   77,2 NA    NA   \n",
       "8   98 Finland         2014 3870,4    81,3 NA    NA   \n",
       "9  109 France          2014 4366,9864 82,8 NA    NA   \n",
       "10 120 Germany         2014 5119,2146 81,2 NA    NA   \n",
       "11 131 Greece          2014 2220,1065 81,5 NA    NA   \n",
       "12 142 Hungary         2014 1796,6034 75,9 NA    NA   \n",
       "13 153 Iceland         2014 3896,9251 82,9 NA    NA   \n",
       "14 164 Ireland         2014 5001,322  81,4 NA    NA   \n",
       "15 175 Israel          2014 2547,401  82,2 NA    NA   \n",
       "16 186 Italy           2014 3206,8286 83,2 NA    NA   \n",
       "17 197 Japan           2014 4152,3727 83,7 NA    NA   \n",
       "18 208 Korea           2014 2361,44   82,2 NA    NA   \n",
       "19 219 Latvia          2014 1295,0128 74,3 NA    NA   \n",
       "20 230 Luxembourg      2014 6682,237  82,3 NA    NA   \n",
       "21 241 Mexico          2014 1035,3389 74,8 NA    NA   \n",
       "22 252 Netherlands     2014 5276,6003 81,8 NA    NA   \n",
       "23 263 New Zealand     2014 3537,2568 81,6 NA    NA   \n",
       "24 274 Norway          2014 6080,998  82,2 NA    NA   \n",
       "25 285 Poland          2014 1624,8655 77,7 NA    NA   \n",
       "26 296 Portugal        2014 2583,8438 81,2 NA    NA   \n",
       "27 307 Slovak Republic 2014 1970,523  76,9 NA    NA   \n",
       "28 318 Slovenia        2014 2598,9066 81,2 NA    NA   \n",
       "29 329 Spain           2014 3053,0745 83,3 NA    NA   \n",
       "30 340 Sweden          2014 5065,1613 82,3 NA    NA   \n",
       "31 351 Switzerland     2014 6786,5657 83,3 NA    NA   \n",
       "32 362 Turkey          2014 990,1908  78   NA    NA   \n",
       "33 373 United Kingdom  2014 3971,394  81,4 NA    NA   \n",
       "34 384 United States   2014 9024,2064 78,8 NA    NA   "
      ]
     },
     "metadata": {},
     "output_type": "display_data"
    }
   ],
   "source": []
  },
  {
   "cell_type": "code",
   "execution_count": 23,
   "metadata": {
    "collapsed": false
   },
   "outputs": [
    {
     "name": "stderr",
     "output_type": "stream",
     "text": [
      "geom_path: Each group consists of only one observation. Do you need to adjust\n",
      "the group aesthetic?\n"
     ]
    },
    {
     "data": {},
     "metadata": {},
     "output_type": "display_data"
    },
    {
     "data": {
      "image/png": "[encoded data removed]",
      "text/plain": [
       "plot without title"
      ]
     },
     "metadata": {},
     "output_type": "display_data"
    }
   ],
   "source": [
    "graph2$Country <- as.factor(graph2$Country)\n",
    "ggplot(graph2, aes(x = Year, y = Cost, col = Country))+ geom_line()"
   ]
  },
  {
   "cell_type": "code",
   "execution_count": 14,
   "metadata": {
    "collapsed": false
   },
   "outputs": [
    {
     "name": "stderr",
     "output_type": "stream",
     "text": [
      "Warning message:\n",
      "\"Removed 34 rows containing missing values (position_stack).\""
     ]
    },
    {
     "data": {},
     "metadata": {},
     "output_type": "display_data"
    },
    {
     "data": {
      "image/png": "[encoded data removed]",
      "text/plain": [
       "plot without title"
      ]
     },
     "metadata": {},
     "output_type": "display_data"
    }
   ],
   "source": [
    "ggplot(eff, aes(x = reorder(Country,Score), y = Score, fill= Country)) + \n",
    "    guides(fill=FALSE) +\n",
    "    geom_bar(stat = \"identity\") +\n",
    "    xlab(\"Country\") +\n",
    "    ylab(\"Efficiency scores\") + \n",
    "    theme(axis.text.x = element_text(angle = 45, hjust = 1)) +\n",
    "    scale_fill_manual(values = c(rep(\"blue\",21),rep(\"red\",1),rep(\"blue\",12)))"
   ]
  },
  {
   "cell_type": "code",
   "execution_count": null,
   "metadata": {
    "collapsed": true
   },
   "outputs": [],
   "source": []
  }
 ],
 "metadata": {
  "anaconda-cloud": {},
  "kernelspec": {
   "display_name": "R",
   "language": "R",
   "name": "ir"
  },
  "language_info": {
   "codemirror_mode": "r",
   "file_extension": ".r",
   "mimetype": "text/x-r-source",
   "name": "R",
   "pygments_lexer": "r",
   "version": "3.3.2"
  }
 },
 "nbformat": 4,
 "nbformat_minor": 1
}
